{
 "cells": [
  {
   "cell_type": "markdown",
   "metadata": {},
   "source": [
    "## Aula 03 - Controle de fluxo\n",
    "\n",
    " - Entrada e saída de dados (input e print)\n",
    " - Condicionais (if, elif, else)\n",
    " - Laços de repetição (for, while)\n",
    " - Controle de laços (break, continue)\n",
    " "
   ]
  },
  {
   "cell_type": "markdown",
   "metadata": {},
   "source": [
    "____________________________________"
   ]
  },
  {
   "cell_type": "markdown",
   "metadata": {},
   "source": [
    "### Operadores\n",
    "\n",
    "Os operadores são símbolos que representam operações matemáticas, lógicas, de comparação, de atribuição, etc.\n",
    "\n",
    "O Python possui diversos operadores, e eles podem ser classificados em:"
   ]
  },
  {
   "cell_type": "markdown",
   "metadata": {},
   "source": [
    "#### Identidade\n",
    "    - É `is` --> Verifica se dois objetos têm a mesma identidade (endereço de memória)\n",
    "    - Não é `is not`"
   ]
  },
  {
   "cell_type": "code",
   "execution_count": 36,
   "metadata": {},
   "outputs": [],
   "source": [
    "a = [1,2,3]\n",
    "b = [1,2,3]\n"
   ]
  },
  {
   "cell_type": "code",
   "execution_count": 37,
   "metadata": {},
   "outputs": [
    {
     "data": {
      "text/plain": [
       "True"
      ]
     },
     "execution_count": 37,
     "metadata": {},
     "output_type": "execute_result"
    }
   ],
   "source": [
    "a is not b"
   ]
  },
  {
   "cell_type": "markdown",
   "metadata": {},
   "source": [
    "#### Associação\n",
    "    - Em `in`\n",
    "    - Não em `not in`"
   ]
  },
  {
   "cell_type": "code",
   "execution_count": 42,
   "metadata": {},
   "outputs": [],
   "source": [
    "a = [1,2,3,4,5]\n",
    "\n",
    "valor_a_checar = 5\n"
   ]
  },
  {
   "cell_type": "code",
   "execution_count": 43,
   "metadata": {},
   "outputs": [
    {
     "name": "stdout",
     "output_type": "stream",
     "text": [
      "nao\n"
     ]
    }
   ],
   "source": [
    "if a in b:\n",
    "    print(\"Sim\")\n",
    "\n",
    "else:\n",
    "    print(\"nao\")"
   ]
  },
  {
   "cell_type": "markdown",
   "metadata": {},
   "source": [
    "#### Casos especiais\n",
    "\n",
    "- Bit a bit\n",
    "    - E `&` --> Retorna 1 se ambos os bits forem 1, caso contrário, retorna 0 // Também é usado em conjuntos como interseção\n",
    "    - Ou `|` --> Retorna 1 se um dos bits for 1, caso contrário, retorna 0 // Também é usado em conjuntos como união\n",
    "    - Ou exclusivo `^` --> Retorna 1 se os bits forem diferentes, caso contrário, retorna 0 // Também é usado em conjuntos como diferença simétrica\n",
    "    - Inversão `~` --> Inverte os bits ou o sinal do número (int)\n",
    "    - Deslocamento à esquerda `<<` --> Desloca os bits para a esquerda\n",
    "    - Deslocamento à direita `>>` --> Desloca os bits para a direita"
   ]
  },
  {
   "cell_type": "code",
   "execution_count": null,
   "metadata": {},
   "outputs": [],
   "source": [
    "# bin() para visualização binária"
   ]
  },
  {
   "cell_type": "markdown",
   "metadata": {},
   "source": [
    "##### Exemplos operações aritméticas"
   ]
  },
  {
   "cell_type": "markdown",
   "metadata": {},
   "source": [
    "$x^2$"
   ]
  },
  {
   "cell_type": "code",
   "execution_count": null,
   "metadata": {},
   "outputs": [],
   "source": []
  },
  {
   "cell_type": "markdown",
   "metadata": {},
   "source": [
    "$\\frac{1}{x}$\n"
   ]
  },
  {
   "cell_type": "code",
   "execution_count": null,
   "metadata": {},
   "outputs": [],
   "source": []
  },
  {
   "cell_type": "markdown",
   "metadata": {},
   "source": [
    "$\\sqrt{x}$\n"
   ]
  },
  {
   "cell_type": "code",
   "execution_count": null,
   "metadata": {},
   "outputs": [],
   "source": []
  },
  {
   "cell_type": "markdown",
   "metadata": {},
   "source": [
    "$2 \\cdot x^2 - \\frac{3 \\cdot x^{(x+1)}}{2} + \\frac{\\sqrt{x+1}}{x}$"
   ]
  },
  {
   "cell_type": "code",
   "execution_count": null,
   "metadata": {},
   "outputs": [],
   "source": []
  },
  {
   "cell_type": "markdown",
   "metadata": {},
   "source": [
    "______________________________________________________"
   ]
  },
  {
   "cell_type": "markdown",
   "metadata": {},
   "source": [
    "### Entrada e saída de dados\n",
    "\n",
    "A entrada e saída de dados são operações fundamentais em qualquer programa, pois permitem a interação com o usuário."
   ]
  },
  {
   "cell_type": "markdown",
   "metadata": {},
   "source": [
    "#### Entrada de dados\n",
    "\n",
    "A entrada de dados é feita através da função `input()`, que lê uma linha de texto do teclado e a retorna como uma string."
   ]
  },
  {
   "cell_type": "code",
   "execution_count": null,
   "metadata": {},
   "outputs": [],
   "source": []
  },
  {
   "cell_type": "markdown",
   "metadata": {},
   "source": [
    "#### Saída de dados\n",
    "\n",
    "A saída de dados é feita através da função `print()`, que exibe uma mensagem na tela."
   ]
  },
  {
   "cell_type": "code",
   "execution_count": null,
   "metadata": {},
   "outputs": [],
   "source": []
  },
  {
   "cell_type": "markdown",
   "metadata": {},
   "source": [
    "_________________________________________"
   ]
  },
  {
   "cell_type": "markdown",
   "metadata": {},
   "source": [
    "### Algoritmo para cálculo de média"
   ]
  },
  {
   "cell_type": "markdown",
   "metadata": {},
   "source": [
    "####  **Entendimento do problema**"
   ]
  },
  {
   "cell_type": "markdown",
   "metadata": {},
   "source": [
    "#####  A média aritmética de dois números é calculada pela soma dos números dividida pela quantidade de números. Um terceiro número é a média desses dois números."
   ]
  },
  {
   "cell_type": "markdown",
   "metadata": {},
   "source": [
    "#### **Definição dos dados e seus tipos**"
   ]
  },
  {
   "cell_type": "markdown",
   "metadata": {},
   "source": [
    "##### Os dados são os números que serão somados e a média que será calculada. Os tipos de dados são numéricos. O total de variáveis é 3."
   ]
  },
  {
   "cell_type": "markdown",
   "metadata": {},
   "source": [
    "#### **Entrada de dados**"
   ]
  },
  {
   "cell_type": "markdown",
   "metadata": {},
   "source": [
    "##### Os números são lidos do teclado. A entrada é feita através da função `input()`.\n"
   ]
  },
  {
   "cell_type": "markdown",
   "metadata": {},
   "source": [
    "#### **Processamento**"
   ]
  },
  {
   "cell_type": "markdown",
   "metadata": {},
   "source": [
    "##### A média é calculada pela soma dos números de entrada dividida por 2."
   ]
  },
  {
   "cell_type": "markdown",
   "metadata": {},
   "source": [
    "#### **Saída de dados**"
   ]
  },
  {
   "cell_type": "markdown",
   "metadata": {},
   "source": [
    "##### A variável média (calculada) é exibida na tela. A saída é feita através da função `print()`. "
   ]
  },
  {
   "cell_type": "code",
   "execution_count": null,
   "metadata": {},
   "outputs": [],
   "source": []
  },
  {
   "cell_type": "markdown",
   "metadata": {},
   "source": [
    "____________________________"
   ]
  },
  {
   "cell_type": "markdown",
   "metadata": {},
   "source": [
    "### Condicionais\n",
    "\n",
    "As estruturas condicionais em Python permitem que você execute diferentes blocos de código com base em uma condição booleana.\n",
    "<br>\n",
    "As palavras-chave utilizadas são:\n",
    " - if;\n",
    " - elif (abreviação de \"else if\"); e \n",
    " - else.\n",
    "<br>\n",
    "<br>\n",
    " ```python\n",
    " if condição:\n",
    "    # bloco de código a ser executado se a condição for verdadeira\n",
    "elif outra_condição:\n",
    "    # bloco de código a ser executado se a condição anterior for falsa e esta for verdadeira\n",
    "else:\n",
    "    # bloco de código a ser executado se nenhuma das condições anteriores for verdadeira\n",
    "```"
   ]
  },
  {
   "cell_type": "code",
   "execution_count": null,
   "metadata": {},
   "outputs": [],
   "source": []
  },
  {
   "cell_type": "markdown",
   "metadata": {},
   "source": [
    "### Laços de Repetição em Python\n",
    "Os laços de repetição permitem que você execute um bloco de código várias vezes. Em Python, existem dois tipos principais de laços de repetição: for e while.\n",
    "\n",
    "Laço `for`:\n",
    "\n",
    "O laço for é utilizado quando se sabe previamente quantas vezes o bloco de código precisa ser executado.\n",
    "\n",
    "```python\n",
    "for variável in sequência:\n",
    "    # bloco de código a ser executado\n",
    "```\n",
    "\n",
    "Laço `while`:\n",
    "\n",
    "O laço while é utilizado quando não se sabe previamente quantas vezes o bloco de código precisa ser executado.\n",
    "\n",
    "```python\n",
    "while condição:\n",
    "    # bloco de código a ser executado\n",
    "```\n"
   ]
  },
  {
   "cell_type": "markdown",
   "metadata": {},
   "source": [
    "_____________________________"
   ]
  },
  {
   "cell_type": "markdown",
   "metadata": {},
   "source": [
    "### Controles de laços\n",
    "\n",
    "O controle de laços permite que você altere o fluxo de execução de um laço de repetição.\n",
    "\n",
    "- `break`: interrompe a execução do laço de repetição.\n",
    "    \n",
    "    ```python\n",
    "    for i in range(10):\n",
    "        if i == 5:\n",
    "            break\n",
    "        print(i)\n",
    "    ```\n",
    "- `continue`: interrompe a execução do bloco de código atual e continua com a próxima iteração do laço de repetição.\n",
    "\n",
    "    ```python\n",
    "    for i in range(10):\n",
    "        if i > 5:\n",
    "            print(\"i é maior que 5\")\n",
    "        else:\n",
    "            continue\n",
    "    ```"
   ]
  }
 ],
 "metadata": {
  "kernelspec": {
   "display_name": "Python 3",
   "language": "python",
   "name": "python3"
  },
  "language_info": {
   "codemirror_mode": {
    "name": "ipython",
    "version": 3
   },
   "file_extension": ".py",
   "mimetype": "text/x-python",
   "name": "python",
   "nbconvert_exporter": "python",
   "pygments_lexer": "ipython3",
   "version": "3.12.3"
  }
 },
 "nbformat": 4,
 "nbformat_minor": 2
}

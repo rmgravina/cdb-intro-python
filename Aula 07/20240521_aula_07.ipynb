{
 "cells": [
  {
   "cell_type": "markdown",
   "metadata": {},
   "source": [
    "## Aula 07 - Tratamento de Exceções, Boas Práticas e documentação\n",
    "\n",
    " - Try, Except, Else, Finally\n",
    "    - Raise\n",
    "    - Assert\n",
    "- Boas práticas PEP8\n",
    "- Documentação\n",
    "    - Docstrings\n",
    "    - PEP257\n",
    "\n",
    " "
   ]
  },
  {
   "cell_type": "markdown",
   "metadata": {},
   "source": [
    "____________________________________"
   ]
  },
  {
   "cell_type": "markdown",
   "metadata": {},
   "source": [
    "### Tratamento de Exceções\n",
    "\n",
    "- O tratamento de exceções é uma técnica utilizada para lidar com erros que podem ocorrer durante a execução de um programa.\n",
    "- O Python possui um sistema de exceções que permite que o programador trate erros de forma elegante e eficiente.\n",
    "- O tratamento de exceções é feito com os comandos `try`, `except`, `else` e `finally`.\n",
    "\n"
   ]
  },
  {
   "cell_type": "markdown",
   "metadata": {},
   "source": [
    "#### Try, Except, Else, Finally\n",
    "\n",
    "- O bloco `try` é utilizado para testar um bloco de código em busca de erros.\n",
    "- O bloco `except` é utilizado para tratar os erros que podem ocorrer no bloco `try`.\n",
    "- O bloco `else` é executado caso não ocorra nenhuma exceção.\n",
    "- O bloco `finally` é executado sempre, independente de ter ocorrido uma exceção ou não.\n"
   ]
  },
  {
   "cell_type": "markdown",
   "metadata": {},
   "source": [
    "#### Capturando exceções específicas\n",
    "\n",
    "- É possível capturar exceções específicas utilizando o comando `except` seguido do nome da exceção, ou então capturar mais de uma exceção utilizando uma tupla.\n",
    "\n",
    "```python\n",
    "try:\n",
    "    # bloco de código que pode gerar exceções\n",
    "    pass\n",
    "except ValueError:\n",
    "    # tratamento de exceção específica\n",
    "    pass\n",
    "except (TypeError, ZeroDivisionError):\n",
    "    # tratamento de mais de uma exceção\n",
    "    pass\n",
    "except Exception as e:\n",
    "    # tratamento de exceções genéricas\n",
    "    pass\n",
    "```"
   ]
  },
  {
   "cell_type": "code",
   "execution_count": 7,
   "metadata": {},
   "outputs": [
    {
     "name": "stdout",
     "output_type": "stream",
     "text": [
      "Ocorreu um erro: invalid literal for int() with base 10: 'abc'\n"
     ]
    }
   ],
   "source": [
    "try:\n",
    "        \n",
    "    x = int(input(\"Insira o primeiro valor: \"))\n",
    "    y = int(input(\"Insira o segundo valor: \"))\n",
    "    print(x / y)\n",
    "\n",
    "except ZeroDivisionError:\n",
    "    print(\"Não é possível realizar a divisão por 0 (zero)\")\n",
    "\n",
    "#except ValueError:\n",
    "#    print(\"Insira apenas números inteiros.\")\n",
    "\n",
    "except Exception as e:\n",
    "    print(f\"Ocorreu um erro: {e}\")\n",
    "\n"
   ]
  },
  {
   "cell_type": "markdown",
   "metadata": {},
   "source": [
    "#### Bloco `else`\n",
    "\n",
    "- O bloco `else` é executado caso não ocorra nenhuma exceção no bloco `try`.\n",
    "\n",
    "```python\n",
    "try:\n",
    "    # bloco de código que pode gerar exceções\n",
    "    pass\n",
    "except Exception as e:\n",
    "    # tratamento de exceções\n",
    "    pass\n",
    "else:\n",
    "    # bloco executado caso não ocorra exceções\n",
    "    pass\n",
    "```"
   ]
  },
  {
   "cell_type": "code",
   "execution_count": 13,
   "metadata": {},
   "outputs": [
    {
     "name": "stdout",
     "output_type": "stream",
     "text": [
      "Insira um valor válido.\n"
     ]
    }
   ],
   "source": [
    "# Exemplo\n",
    "try:\n",
    "\n",
    "    x = float(input(\"Insira um número real: \"))\n",
    "\n",
    "except ValueError:\n",
    "    print(\"Insira um valor válido.\")\n",
    "\n",
    "else:\n",
    "    print(f\"Você inseriu o valor {x}.\\nParabéns!\")"
   ]
  },
  {
   "cell_type": "markdown",
   "metadata": {},
   "source": [
    "#### Bloco `finally`\n",
    "\n",
    "- O bloco `finally` é executado sempre, independente de ter ocorrido uma exceção ou não.\n",
    "\n",
    "```python\n",
    "try:\n",
    "    # bloco de código que pode gerar exceções\n",
    "    pass\n",
    "except Exception as e:\n",
    "    # tratamento de exceções\n",
    "    pass\n",
    "else:\n",
    "    # bloco executado caso não ocorra exceções\n",
    "    pass\n",
    "finally:\n",
    "    # bloco executado sempre\n",
    "    pass\n",
    "```"
   ]
  },
  {
   "cell_type": "code",
   "execution_count": 17,
   "metadata": {},
   "outputs": [
    {
     "name": "stdout",
     "output_type": "stream",
     "text": [
      "O resultado da divisão é: 8.0\n",
      "O programa foi encerrado, até mais!!\n"
     ]
    }
   ],
   "source": [
    "try:\n",
    "\n",
    "    x = float(input(\"Insira um número a ser dividido: \"))\n",
    "    y = float(input(\"Insira o denominador da divisão: \"))\n",
    "    resultado = x / y\n",
    "    \n",
    "\n",
    "except ZeroDivisionError:\n",
    "    print(\"Não é possível realizar uma divisão com o denominador igual a zero!\\n\")\n",
    "\n",
    "except ValueError:\n",
    "    print(\"Você inseriu um valor inválido para essa operação!\")\n",
    "\n",
    "else:\n",
    "    print(f\"O resultado da divisão é: {resultado}\")\n",
    "\n",
    "finally:\n",
    "    print(\"O programa foi encerrado, até mais!!\")"
   ]
  },
  {
   "cell_type": "markdown",
   "metadata": {},
   "source": [
    "#### Raise\n",
    "\n",
    "- O comando `raise` é utilizado para lançar exceções manualmente. Usar o raise é uma forma de sinalizar que algo deu errado no código, e que o programa deve parar a execução.\n",
    "\n",
    "```python\n",
    "raise ValueError('mensagem de erro')\n",
    "```\n",
    "\n",
    "É utilizado para lançar exceções manualmente, permitindo que o programador crie **exceções personalizadas**."
   ]
  },
  {
   "cell_type": "code",
   "execution_count": 18,
   "metadata": {},
   "outputs": [],
   "source": [
    "class NossaExcecao(Exception):\n",
    "\n",
    "    def __init__(self, mensagem):\n",
    "        super().__init__(mensagem)\n",
    "        self.mensagem = mensagem"
   ]
  },
  {
   "cell_type": "code",
   "execution_count": 19,
   "metadata": {},
   "outputs": [],
   "source": [
    "def raiz_quadrada(valor):\n",
    "    if valor < 0:\n",
    "        raise NossaExcecao(\"Insira um valor positivo.\")\n",
    "    else:\n",
    "        resultado = valor ** (1/2)\n",
    "        print(f\"O resultado é: {resultado}\")"
   ]
  },
  {
   "cell_type": "code",
   "execution_count": 22,
   "metadata": {},
   "outputs": [
    {
     "ename": "NossaExcecao",
     "evalue": "Insira um valor positivo.",
     "output_type": "error",
     "traceback": [
      "\u001b[1;31m---------------------------------------------------------------------------\u001b[0m",
      "\u001b[1;31mNossaExcecao\u001b[0m                              Traceback (most recent call last)",
      "Cell \u001b[1;32mIn[22], line 1\u001b[0m\n\u001b[1;32m----> 1\u001b[0m \u001b[43mraiz_quadrada\u001b[49m\u001b[43m(\u001b[49m\u001b[38;5;241;43m-\u001b[39;49m\u001b[38;5;241;43m25\u001b[39;49m\u001b[43m)\u001b[49m\n",
      "Cell \u001b[1;32mIn[19], line 3\u001b[0m, in \u001b[0;36mraiz_quadrada\u001b[1;34m(valor)\u001b[0m\n\u001b[0;32m      1\u001b[0m \u001b[38;5;28;01mdef\u001b[39;00m \u001b[38;5;21mraiz_quadrada\u001b[39m(valor):\n\u001b[0;32m      2\u001b[0m     \u001b[38;5;28;01mif\u001b[39;00m valor \u001b[38;5;241m<\u001b[39m \u001b[38;5;241m0\u001b[39m:\n\u001b[1;32m----> 3\u001b[0m         \u001b[38;5;28;01mraise\u001b[39;00m NossaExcecao(\u001b[38;5;124m\"\u001b[39m\u001b[38;5;124mInsira um valor positivo.\u001b[39m\u001b[38;5;124m\"\u001b[39m)\n\u001b[0;32m      4\u001b[0m     \u001b[38;5;28;01melse\u001b[39;00m:\n\u001b[0;32m      5\u001b[0m         resultado \u001b[38;5;241m=\u001b[39m valor \u001b[38;5;241m*\u001b[39m\u001b[38;5;241m*\u001b[39m (\u001b[38;5;241m1\u001b[39m\u001b[38;5;241m/\u001b[39m\u001b[38;5;241m2\u001b[39m)\n",
      "\u001b[1;31mNossaExcecao\u001b[0m: Insira um valor positivo."
     ]
    }
   ],
   "source": [
    "raiz_quadrada(-25)"
   ]
  },
  {
   "cell_type": "markdown",
   "metadata": {},
   "source": [
    "#### Assert\n",
    "\n",
    "- O comando `assert` é utilizado para testar expressões lógicas. Se a expressão for falsa, o comando `assert` lança uma exceção do tipo `AssertionError`.\n",
    "\n",
    "```python\n",
    "assert 1 == 1\n",
    "assert 1 == 2\n",
    "```\n",
    "\n",
    "Usar o assert é uma forma de garantir que o código está funcionando corretamente, e que as variáveis estão com os valores esperados. Ele é semelhante a um teste unitário, mas é utilizado para testes simples.\n",
    "\n",
    "Por que usar o assert ao invés de um `if`?\n",
    "\n",
    "- O comando `assert` é utilizado para testes simples, que não precisam de tratamento de exceções.\n",
    "- O comando `assert` é desativado quando o código é executado com a flag `-O` (otimização).\n",
    "\n",
    "\n"
   ]
  },
  {
   "cell_type": "code",
   "execution_count": 26,
   "metadata": {},
   "outputs": [],
   "source": [
    "def soma(a, b):\n",
    "    assert isinstance(a, int), 'O valor de a não é um inteiro'\n",
    "    assert isinstance(b, int), 'O valor de b não é um inteiro'\n",
    "    return a + b\n"
   ]
  },
  {
   "cell_type": "code",
   "execution_count": 28,
   "metadata": {},
   "outputs": [
    {
     "ename": "AssertionError",
     "evalue": "O valor de a não é um inteiro",
     "output_type": "error",
     "traceback": [
      "\u001b[1;31m---------------------------------------------------------------------------\u001b[0m",
      "\u001b[1;31mAssertionError\u001b[0m                            Traceback (most recent call last)",
      "Cell \u001b[1;32mIn[28], line 1\u001b[0m\n\u001b[1;32m----> 1\u001b[0m \u001b[43msoma\u001b[49m\u001b[43m(\u001b[49m\u001b[38;5;124;43m'\u001b[39;49m\u001b[38;5;124;43ms\u001b[39;49m\u001b[38;5;124;43m'\u001b[39;49m\u001b[43m,\u001b[49m\u001b[43m \u001b[49m\u001b[38;5;241;43m10\u001b[39;49m\u001b[43m)\u001b[49m\n",
      "Cell \u001b[1;32mIn[26], line 2\u001b[0m, in \u001b[0;36msoma\u001b[1;34m(a, b)\u001b[0m\n\u001b[0;32m      1\u001b[0m \u001b[38;5;28;01mdef\u001b[39;00m \u001b[38;5;21msoma\u001b[39m(a, b):\n\u001b[1;32m----> 2\u001b[0m     \u001b[38;5;28;01massert\u001b[39;00m \u001b[38;5;28misinstance\u001b[39m(a, \u001b[38;5;28mint\u001b[39m), \u001b[38;5;124m'\u001b[39m\u001b[38;5;124mO valor de a não é um inteiro\u001b[39m\u001b[38;5;124m'\u001b[39m\n\u001b[0;32m      3\u001b[0m     \u001b[38;5;28;01massert\u001b[39;00m \u001b[38;5;28misinstance\u001b[39m(b, \u001b[38;5;28mint\u001b[39m), \u001b[38;5;124m'\u001b[39m\u001b[38;5;124mO valor de b não é um inteiro\u001b[39m\u001b[38;5;124m'\u001b[39m\n\u001b[0;32m      4\u001b[0m     \u001b[38;5;28;01mreturn\u001b[39;00m a \u001b[38;5;241m+\u001b[39m b\n",
      "\u001b[1;31mAssertionError\u001b[0m: O valor de a não é um inteiro"
     ]
    }
   ],
   "source": [
    "soma('s', 10)"
   ]
  },
  {
   "cell_type": "markdown",
   "metadata": {},
   "source": [
    "### Boas práticas PEP8\n",
    "\n",
    "- O PEP8 é um guia de estilo para a escrita de código Python.\n",
    "- O PEP8 define regras para a formatação do código, como a quantidade de espaços em branco, o tamanho máximo das linhas, a forma de importar módulos, entre outras regras.\n",
    "- Seguir as regras do PEP8 é importante para manter a consistência do código e facilitar a leitura e manutenção do código.\n",
    "\n",
    "https://peps.python.org/pep-0008/"
   ]
  },
  {
   "cell_type": "markdown",
   "metadata": {},
   "source": [
    "1. Indentação\n",
    "Use quatro espaços por nível de indentação. Não use tabulações.\n",
    "\n",
    "```python\n",
    "# Correto\n",
    "def funcao():\n",
    "    x = 1\n",
    "    y = 2\n",
    "    if x == y:\n",
    "        print(\"x e y são iguais\")\n",
    "\n",
    "# Errado\n",
    "def funcao():\n",
    "\\t x = 1\n",
    "\\t y = 2\n",
    "\\t if x == y:\n",
    "\\t\\t print(\"x e y são iguais\")\n",
    "```\n"
   ]
  },
  {
   "cell_type": "code",
   "execution_count": null,
   "metadata": {},
   "outputs": [],
   "source": []
  },
  {
   "cell_type": "markdown",
   "metadata": {},
   "source": [
    "2. Comprimento das Linhas\n",
    "Mantenha as linhas com no máximo 79 caracteres.\n",
    "\n",
    "```python\n",
    "# Correto\n",
    "def funcao1():\n",
    "    print(\"Esta é uma linha que respeita o limite de 79 caracteres.\")\n",
    "\n",
    "# Errado\n",
    "def funcao2():\n",
    "    print(\"Esta é uma linha que ultrapassa o limite de 79 caracteres, o que não é recomendado.\")\n",
    "```"
   ]
  },
  {
   "cell_type": "code",
   "execution_count": 32,
   "metadata": {},
   "outputs": [],
   "source": [
    "# Correto\n",
    "def funcao1():\n",
    "    print(\"Esta é uma linha que respeita o limite de 79 caracteres.\")\n",
    "\n",
    "# Errado\n",
    "def funcao2():\n",
    "    print(\"Esta é uma linha que ultrapassa o limite de 79 caracteres,o que não é recomendado. Esta é uma linha que ultrapassa o limite de 79 caracteres, o que não é recomendado. Esta é uma linha que ultrapassa o limite de 79 caracteres, o que não é recomendado. Esta é uma linha que ultrapassa o limite de 79 {variavel1}, o que não é recomendado. Esta é uma linha que ultrapassa o limite de 79 {variavel}, o que não é recomendado.\")"
   ]
  },
  {
   "cell_type": "code",
   "execution_count": 33,
   "metadata": {},
   "outputs": [
    {
     "name": "stdout",
     "output_type": "stream",
     "text": [
      "Esta é uma linha que ultrapassa o limite de 79 caracteres, o que não é recomendado. Esta é uma linha que ultrapassa o limite de 79 caracteres, o que não é recomendado. Esta é uma linha que ultrapassa o limite de 79 caracteres, o que não é recomendado. Esta é uma linha que ultrapassa o limite de 79 caracteres, o que não é recomendado. Esta é uma linha que ultrapassa o limite de 79 caracteres, o que não é recomendado.\n"
     ]
    }
   ],
   "source": [
    "funcao2()"
   ]
  },
  {
   "cell_type": "code",
   "execution_count": 34,
   "metadata": {},
   "outputs": [
    {
     "name": "stdout",
     "output_type": "stream",
     "text": [
      "\n",
      "Esta é uma linha que ultrapassa o limite de 79 caracteres,o que não é recomendado.\n",
      "Esta é uma linha que ultrapassa o limite de 79 caracteres, o que não é recomendado.\n",
      "Esta é uma linha que ultrapassa o limite de 79 caracteres, o que não é recomendado.\n",
      "Esta é uma linha que ultrapassa o limite de 79 caracteres, o que não é recomendado.\n",
      "Esta é uma linha que ultrapassa o limite de 79 caracteres, o que não é recomendado.\n",
      "\n"
     ]
    }
   ],
   "source": [
    "meu_texto_grande = \"\"\"\n",
    "Esta é uma linha que ultrapassa o limite de 79 caracteres,o que não é recomendado.\n",
    "Esta é uma linha que ultrapassa o limite de 79 caracteres, o que não é recomendado.\n",
    "Esta é uma linha que ultrapassa o limite de 79 caracteres, o que não é recomendado.\n",
    "Esta é uma linha que ultrapassa o limite de 79 caracteres, o que não é recomendado.\n",
    "Esta é uma linha que ultrapassa o limite de 79 caracteres, o que não é recomendado.\n",
    "\"\"\"\n",
    "\n",
    "print(meu_texto_grande)"
   ]
  },
  {
   "cell_type": "markdown",
   "metadata": {},
   "source": [
    "3. Imports\n",
    "\n",
    "- Importe cada módulo em uma linha separada.\n",
    "- Importe módulos padrão antes de módulos de terceiros.\n",
    "- Importe módulos em ordem alfabética.\n",
    "- Importe apenas o que é necessário.\n",
    "- Importe sempre no início do script.\n",
    "- Evite importar módulos com `*`.\n",
    "\n",
    "```python\n",
    "# Correto\n",
    "import os\n",
    "import sys\n",
    "from datetime import datetime\n",
    "from math import sqrt\n",
    "\n",
    "# Errado\n",
    "from math import *\n",
    "import sys, os\n",
    "\n",
    "os.getenv()\n",
    "\n",
    "import datetime\n",
    "\n",
    "print(datetime.datetime.now())\n",
    "```"
   ]
  },
  {
   "cell_type": "markdown",
   "metadata": {},
   "source": [
    "### Documentação\n",
    "\n",
    "Documentação é uma parte crucial do desenvolvimento de software, pois facilita a compreensão e a manutenção do código por outros desenvolvedores (e por você mesmo no futuro). Em Python, a documentação é frequentemente feita usando docstrings."
   ]
  },
  {
   "cell_type": "markdown",
   "metadata": {},
   "source": [
    "#### Docstrings\n",
    "Docstrings são strings literais que aparecem logo após a definição de uma função, método, classe ou módulo. Elas são usadas para documentar a funcionalidade desses componentes. O uso adequado de docstrings ajuda a criar um código mais compreensível e facilita a geração automática de documentação.\n"
   ]
  },
  {
   "cell_type": "markdown",
   "metadata": {},
   "source": [
    "\n",
    "- Para funções:\n",
    "\n",
    "```python\n",
    "def soma(a, b):\n",
    "    '''\n",
    "    Retorna a soma de dois números.\n",
    "\n",
    "    Parâmetros:\n",
    "    a (int): O primeiro número.\n",
    "    b (int): O segundo número.\n",
    "\n",
    "    Retorna:\n",
    "    int: A soma dos dois números.\n",
    "    '''\n",
    "    return a + b\n",
    "```\n",
    "\n",
    "Para representar o retorno de uma função, pode-se utilizar -> tipo_retorno:\n",
    "\n",
    "```python\n",
    "def soma(a, b) -> int:\n",
    "    \"\"\"\n",
    "    Retorna a soma de dois números.\n",
    "\n",
    "    Parâmetros:\n",
    "    a (int): O primeiro número.\n",
    "    b (int): O segundo número.\n",
    "    \"\"\"\n",
    "    return a + b\n",
    "```\n",
    "\n"
   ]
  },
  {
   "cell_type": "markdown",
   "metadata": {},
   "source": [
    "________"
   ]
  },
  {
   "cell_type": "markdown",
   "metadata": {},
   "source": [
    "\n",
    "- Para classes:\n",
    "\n",
    "```python\n",
    "class Pessoa:\n",
    "    \"\"\"\n",
    "    Representa uma pessoa.\n",
    "\n",
    "    Atributos:\n",
    "    nome (str): O nome da pessoa.\n",
    "    idade (int): A idade da pessoa.\n",
    "    \"\"\"\n",
    "\n",
    "    def __init__(self, nome, idade):\n",
    "        self.nome = nome\n",
    "        self.idade = idade\n",
    "```"
   ]
  },
  {
   "cell_type": "markdown",
   "metadata": {},
   "source": [
    "#### PEP257\n",
    "\n",
    "A PEP 257 é uma proposta de aprimoramento do Python que fornece convenções para docstrings, complementando a PEP 8. Ela oferece diretrizes sobre o estilo e a estrutura das docstrings.\n",
    "\n",
    "https://peps.python.org/pep-0257/"
   ]
  },
  {
   "cell_type": "markdown",
   "metadata": {},
   "source": [
    "#### Diretrizes Principais da PEP 257\n",
    "\n",
    "\n"
   ]
  },
  {
   "cell_type": "markdown",
   "metadata": {},
   "source": [
    "1. Docstrings de uma Linha:\n",
    "\n",
    "Use para funções ou métodos simples.\n",
    "Deve ser uma frase curta que termine com um ponto.\n",
    "\n",
    "```python\n",
    "def soma(a, b):\n",
    "    \"\"\"Retorna a soma de dois números.\"\"\"\n",
    "    return a + b\n",
    "```"
   ]
  },
  {
   "cell_type": "markdown",
   "metadata": {},
   "source": [
    "2. Docstrings de Múltiplas Linhas:\n",
    "\n",
    "Use para componentes mais complexos.\n",
    "A primeira linha deve ser um resumo curto.\n",
    "Separe a primeira linha do resto da docstring com uma linha em branco.\n",
    "Forneça uma descrição mais detalhada após o resumo, se necessário.\n",
    "\n",
    "```python\n",
    "def soma(a, b):\n",
    "    \"\"\"\n",
    "    Retorna a soma de dois números.\n",
    "\n",
    "    Parâmetros:\n",
    "    a (int): O primeiro número.\n",
    "    b (int): O segundo número.\n",
    "\n",
    "    Retorna:\n",
    "    int: A soma dos dois números.\n",
    "    \"\"\"\n",
    "    return a + b\n",
    "```"
   ]
  }
 ],
 "metadata": {
  "kernelspec": {
   "display_name": "Python 3",
   "language": "python",
   "name": "python3"
  },
  "language_info": {
   "codemirror_mode": {
    "name": "ipython",
    "version": 3
   },
   "file_extension": ".py",
   "mimetype": "text/x-python",
   "name": "python",
   "nbconvert_exporter": "python",
   "pygments_lexer": "ipython3",
   "version": "3.12.3"
  }
 },
 "nbformat": 4,
 "nbformat_minor": 2
}

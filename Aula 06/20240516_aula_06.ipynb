{
 "cells": [
  {
   "cell_type": "markdown",
   "metadata": {},
   "source": [
    "## Aula 06 - Módulos e Bibliotecas\n",
    "\n",
    " - Importação e utilização de módulos\n",
    " - Exploração de bibliotecas padrão (ex: math, random)\n",
    " - Como instalar e utilizar bibliotecas externas\n",
    " - Classes\n",
    " "
   ]
  },
  {
   "cell_type": "markdown",
   "metadata": {},
   "source": [
    "____________________________________"
   ]
  },
  {
   "cell_type": "markdown",
   "metadata": {},
   "source": [
    "### O que são módulos e bibliotecas?\n",
    "\n",
    "Módulos são arquivos que contêm funções, classes e variáveis. Eles podem ser importados para outros arquivos e reutilizados.\n",
    "\n",
    "Bibliotecas são conjuntos de módulos que podem ser importados e utilizados em um programa."
   ]
  },
  {
   "cell_type": "markdown",
   "metadata": {},
   "source": [
    "**Módulo**:\n",
    "\n",
    " - Quando falamos de um módulo, geralmente nos referimos a um arquivo Python individual que contém código reutilizável.\n",
    " - Um módulo geralmente tem um escopo mais limitado e contém definições e declarações específicas para uma funcionalidade ou conjunto de funcionalidades.\n",
    " - Normalmente, os módulos são importados em outros programas Python para serem utilizados.\n",
    "Por exemplo, math_operations.py no exemplo anterior é um módulo que contém funções matemáticas.\n",
    "\n",
    "**Biblioteca**:\n",
    "\n",
    " - Uma biblioteca, por outro lado, é um conjunto de módulos relacionados que oferecem funcionalidades específicas para uma área de aplicação.\n",
    " - Geralmente, uma biblioteca contém uma variedade de módulos que abordam diferentes aspectos ou funcionalidades dentro dessa área de aplicação.\n",
    " - As bibliotecas podem ser a biblioteca padrão do Python, que já vem com a instalação do Python, ou bibliotecas externas que você pode instalar usando um gerenciador de pacotes como pip.\n",
    " - Por exemplo, a biblioteca random é uma biblioteca padrão do Python que contém o módulo random, que fornece funcionalidades para geração de números aleatórios.\n",
    "\n",
    " pypi"
   ]
  },
  {
   "cell_type": "markdown",
   "metadata": {},
   "source": [
    "#### Como eu sei se é módulo ou biblioteca?\n",
    "\n",
    " - Se você está se referindo a um arquivo Python individual que contém código reutilizável, você está falando de um módulo.\n",
    " \n",
    " - Se você está se referindo a um conjunto de módulos relacionados que oferecem funcionalidades específicas para uma área de aplicação, você está falando de uma biblioteca."
   ]
  },
  {
   "cell_type": "markdown",
   "metadata": {},
   "source": [
    "**Exemplo de módulo**:\n",
    "\n",
    "`math_operations.py`:\n",
    "\n",
    "```python\n",
    "\n",
    "def add(a, b):\n",
    "    return a + b\n",
    "\n",
    "def subtract(a, b):\n",
    "    return a - b\n",
    "\n",
    "def multiply(a, b):\n",
    "    return a * b\n",
    "\n",
    "def divide(a, b):\n",
    "    return a / b\n",
    "\n",
    "```"
   ]
  },
  {
   "cell_type": "markdown",
   "metadata": {},
   "source": [
    "**Exemplo de biblioteca**\n",
    "\n",
    "`math_library.py`\n",
    "\n",
    "\n",
    "```python\n",
    "import math_operations\n",
    "\n",
    "def calculate_circle_area(radius):\n",
    "    return math_operations.multiply(math.pi, math_operations.multiply(radius, radius))\n",
    "\n",
    "def calculate_circle_circumference(radius):\n",
    "    return math_operations.multiply(math.pi, math_operations.multiply(2, radius))\n",
    "```\n"
   ]
  },
  {
   "cell_type": "code",
   "execution_count": null,
   "metadata": {},
   "outputs": [],
   "source": []
  },
  {
   "cell_type": "markdown",
   "metadata": {},
   "source": [
    "Para importar um módulo em Python, você pode usar a instrução `import`."
   ]
  },
  {
   "cell_type": "markdown",
   "metadata": {},
   "source": [
    "### Bibliotecas padrão do Python\n",
    "\n",
    "Python vem com uma biblioteca padrão que contém uma variedade de módulos que oferecem funcionalidades para tarefas comuns, como manipulação de arquivos, geração de números aleatórios, manipulação de strings, etc.\n",
    "\n",
    "Alguns exemplos de módulos da biblioteca padrão do Python:\n",
    "\n",
    " - `math`: fornece funções matemáticas\n",
    " - `random`: fornece funções para geração de números aleatórios\n",
    " - `os`: fornece funções para interagir com o sistema operacional\n",
    " - `sys`: fornece funções e variáveis relacionadas ao sistema Python\n",
    " - `datetime`: fornece classes para manipulação de datas e horas\n",
    " - `json`: fornece funções para codificação e decodificação de dados JSON\n",
    " - `re`: fornece funções para trabalhar com expressões regulares\n",
    " - `csv`: fornece funções para trabalhar com arquivos CSV\n",
    " - `urllib`: fornece funções para trabalhar com URLs e páginas da web\n",
    " - `sqlite3`: fornece funções para trabalhar com bancos de dados SQLite"
   ]
  },
  {
   "cell_type": "markdown",
   "metadata": {},
   "source": [
    "### Instalando módulos e bibliotecas externas\n",
    "\n",
    "Além da biblioteca padrão do Python, você também pode instalar bibliotecas externas que não vêm com a instalação padrão do Python. Você pode instalar bibliotecas externas usando um gerenciador de pacotes chamado `pip`.\n",
    "\n",
    "Para instalar uma biblioteca externa, você pode usar o comando `pip install` seguido do nome da biblioteca que deseja instalar. Por exemplo, para instalar a biblioteca `requests`, você pode usar o seguinte comando:\n",
    "\n",
    "```bash\n",
    "pip install requests\n",
    "```\n",
    "\n",
    "Depois de instalar uma biblioteca externa, você pode importá-la em seu programa Python da mesma maneira que importa módulos da biblioteca padrão."
   ]
  },
  {
   "cell_type": "markdown",
   "metadata": {},
   "source": [
    "#### Principais módulos e bibliotecas externas do Python\n",
    "\n",
    " - `requests`: fornece funcionalidades para fazer solicitações HTTP\n",
    " - `numpy`: fornece suporte para arrays e matrizes multidimensionais\n",
    " - `pandas`: fornece estruturas de dados e ferramentas para análise de dados\n",
    " - `matplotlib`: fornece funcionalidades para criação de gráficos e visualizações\n",
    " - `scikit-learn`: fornece ferramentas para aprendizado de máquina e mineração de dados\n",
    " - `tensorflow`: fornece uma plataforma para aprendizado de máquina e aprendizado profundo\n",
    " - `keras`: fornece uma API de alto nível para construção e treinamento de modelos de aprendizado profundo\n",
    " - `pytorch`: fornece uma plataforma para aprendizado de máquina e aprendizado profundo\n",
    " - `django`: fornece um framework para desenvolvimento web\n",
    " - `flask`: fornece um microframework para desenvolvimento web\n",
    " - `streamlit`: fornece ferramentas para criação de aplicativos da web de ciência de dados\n",
    " - `sqlalchemy`: fornece ferramentas para trabalhar com bancos de dados SQL\n",
    " - `beautifulsoup4`: fornece funcionalidades para análise de documentos HTML e XML\n",
    " - `scipy`: fornece funcionalidades para matemática, ciência e engenharia\n",
    " - `pygame`: fornece funcionalidades para criação de jogos\n",
    " - `opencv-python`: fornece funcionalidades para visão computacional e processamento de imagens\n",
    " - `pillow`: fornece funcionalidades para manipulação de imagens\n",
    " - `pytorch`: fornece uma plataforma para aprendizado de máquina e aprendizado profundo\n",
    " - `fastapi`: fornece um framework para desenvolvimento de APIs web"
   ]
  },
  {
   "cell_type": "markdown",
   "metadata": {},
   "source": [
    "________________"
   ]
  },
  {
   "cell_type": "markdown",
   "metadata": {},
   "source": [
    "### Classes em Python\n",
    "\n",
    "As classes são a pedra angular da programação orientada a objetos (OOP) em Python. Elas permitem criar estruturas de dados complexas e abstrair o comportamento e as características dos objetos em um programa. Alguns conceitos fundamentais das Classes:"
   ]
  },
  {
   "cell_type": "markdown",
   "metadata": {},
   "source": [
    "1. Definição de uma classe\n",
    "\n",
    "Para definir uma classe em Python, você usa a palavra-chave `class`, seguida pelo nome da classe e dois pontos. O corpo da classe contém as definições de métodos (funções) e atributos da classe (variáveis).\n",
    "\n",
    "Obs: O método __init__ é conhecido como *construtor* da classe, ele é chamado automaticamente quando um objeto da classe é criado.\n",
    "\n",
    "    "
   ]
  },
  {
   "cell_type": "code",
   "execution_count": 36,
   "metadata": {},
   "outputs": [],
   "source": [
    "# Vamos criar uma classe Alunos\n",
    "\n",
    "class Alunos:\n",
    "\n",
    "    def __init__(self, nome, email, notas):\n",
    "        self.nome = nome\n",
    "        self.email = email\n",
    "        self.notas = notas\n",
    "    \n",
    "    def mostrar_informacoes(self):\n",
    "        print(f\"Nome do aluno: {self.nome}\")\n",
    "        print(f\"Email do aluno: {self.email}\")\n",
    "        print(f\"As notas são: {self.notas}\")\n",
    "    \n",
    "            "
   ]
  },
  {
   "cell_type": "markdown",
   "metadata": {},
   "source": [
    "2. Instância de uma classe\n",
    "\n",
    "Para criar uma instância de uma classe em Python, você chama o nome da classe seguido de parênteses. Isso cria um novo objeto da classe, que pode ser atribuído a uma variável para referência posterior."
   ]
  },
  {
   "cell_type": "code",
   "execution_count": 22,
   "metadata": {},
   "outputs": [],
   "source": [
    "# Instanciar um objeto da classe Alunos\n",
    "\n",
    "aluno1 = Alunos('Rogério', 'rmgravina@gmail.com', [8.5, 8.98])"
   ]
  },
  {
   "cell_type": "markdown",
   "metadata": {},
   "source": [
    "3. Atributos e métodos de uma classe\n",
    "\n",
    " - Atributos: são variáveis associadas a um objeto da classe. Eles armazenam informações sobre o objeto e podem ser acessados e modificados usando a notação de ponto.\n"
   ]
  },
  {
   "cell_type": "code",
   "execution_count": 25,
   "metadata": {},
   "outputs": [
    {
     "data": {
      "text/plain": [
       "[8.5, 8.98]"
      ]
     },
     "execution_count": 25,
     "metadata": {},
     "output_type": "execute_result"
    }
   ],
   "source": [
    "# Chamar atributo do objeto\n"
   ]
  },
  {
   "cell_type": "markdown",
   "metadata": {},
   "source": [
    "- Métodos: são funções associadas a um objeto da classe. Eles definem o comportamento do objeto e podem ser chamados usando a notação de ponto."
   ]
  },
  {
   "cell_type": "code",
   "execution_count": 27,
   "metadata": {},
   "outputs": [
    {
     "name": "stdout",
     "output_type": "stream",
     "text": [
      " Nota 1: 8.5\n",
      " Nota 2: 8.98\n"
     ]
    }
   ],
   "source": [
    "# Chamar método do objeto\n",
    "aluno1.exibir_notas()"
   ]
  },
  {
   "cell_type": "markdown",
   "metadata": {},
   "source": [
    "4. Herança de classes\n",
    "\n",
    "A herança de classes é um conceito importante em OOP que permite criar uma nova classe baseada em uma classe existente. A nova classe herda os atributos e métodos da classe existente e pode adicionar novos atributos e métodos ou substituir os existentes.\n",
    "\n",
    "Para criar uma classe que herda de outra classe em Python, você coloca o nome da classe base entre parênteses após o nome da nova classe.\n",
    "\n",
    "Obs: O método `super()` é usado para chamar o construtor da classe base na classe derivada."
   ]
  },
  {
   "cell_type": "code",
   "execution_count": 37,
   "metadata": {},
   "outputs": [],
   "source": [
    "# Criar uma classe utilizando herança de Alunos\n",
    "\n",
    "class AlunosEM(Alunos):\n",
    "    def __init__(self, nome, email, notas, serie):\n",
    "        super().__init__(nome, email, notas)\n",
    "        self.serie = serie\n",
    "    \n",
    "    def mostrar_informacoes(self):\n",
    "        super().mostrar_informacoes()\n",
    "        print(f\"A serie do aluno é: {self.serie}\")"
   ]
  },
  {
   "cell_type": "code",
   "execution_count": 38,
   "metadata": {},
   "outputs": [],
   "source": [
    "aluno2 = AlunosEM('Marcos', 'marcos@codigosdobem.com.br', [10, 10, 10], '1 semestre')"
   ]
  },
  {
   "cell_type": "code",
   "execution_count": 39,
   "metadata": {},
   "outputs": [
    {
     "name": "stdout",
     "output_type": "stream",
     "text": [
      "Nome do aluno: Marcos\n",
      "Email do aluno: marcos@codigosdobem.com.br\n",
      "As notas são: [10, 10, 10]\n",
      "A serie do aluno é: 1 semestre\n"
     ]
    }
   ],
   "source": [
    "aluno2.mostrar_informacoes()"
   ]
  },
  {
   "cell_type": "markdown",
   "metadata": {},
   "source": [
    "5. Encapsulamento\n",
    "\n",
    "O encapsulamento é um conceito em OOP que consiste em agrupar os dados (atributos) e métodos que operam nesses dados em uma única unidade chamada classe. Isso ajuda a proteger os dados de serem acessados ou modificados diretamente fora da classe.\n",
    "\n",
    "Em Python, o encapsulamento é implementado usando convenções de nomenclatura e modificadores de acesso.\n",
    "\n",
    " - Atributos e métodos privados: são atributos e métodos que começam com um sublinhado duplo `__`. Eles não devem ser acessados ou modificados diretamente fora da classe.\n",
    " - Atributos e métodos protegidos: são atributos e métodos que começam com um sublinhado simples `_`. Eles podem ser acessados ou modificados diretamente fora da classe, mas é uma convenção que eles devem ser tratados como privados.\n",
    " - Atributos e métodos públicos: são atributos e métodos que não começam com um sublinhado. Eles podem ser acessados e modificados diretamente fora da classe.\n"
   ]
  },
  {
   "cell_type": "code",
   "execution_count": 69,
   "metadata": {},
   "outputs": [],
   "source": [
    "# Exemplificar encapsulamento\n",
    "\n",
    "class Pessoa:\n",
    "    def __init__(self, nome, idade, sexo):\n",
    "        self.__nome = nome\n",
    "        self.idade = idade\n",
    "        self._sexo = sexo\n",
    "\n",
    "    def mostrar_nome(self):\n",
    "        return self.__nome\n",
    "    \n",
    "    def mudar_nome(self, nome):\n",
    "        self.__nome = nome"
   ]
  },
  {
   "cell_type": "code",
   "execution_count": 57,
   "metadata": {},
   "outputs": [],
   "source": [
    "paciente1 = Pessoa('Rogério', '29', 'Masculino')"
   ]
  },
  {
   "cell_type": "code",
   "execution_count": 71,
   "metadata": {},
   "outputs": [
    {
     "data": {
      "text/plain": [
       "'Masculino'"
      ]
     },
     "execution_count": 71,
     "metadata": {},
     "output_type": "execute_result"
    }
   ],
   "source": [
    "paciente1."
   ]
  },
  {
   "cell_type": "markdown",
   "metadata": {},
   "source": [
    "6. Polimorfismo em Classes\n",
    "\n",
    "O polimorfismo é um conceito em OOP que permite que objetos de diferentes classes sejam tratados de maneira uniforme. Isso significa que um objeto pode ser tratado como um objeto de sua classe base, mesmo que seja uma instância de uma classe derivada.\n",
    "\n",
    "O polimorfismo é implementado em Python usando métodos com o mesmo nome em classes diferentes. Quando um método é chamado em um objeto, o interpretador Python procura o método na classe do objeto e em suas classes base.\n",
    "\n"
   ]
  },
  {
   "cell_type": "code",
   "execution_count": 72,
   "metadata": {},
   "outputs": [],
   "source": [
    "class Animal:\n",
    "    def som(self):\n",
    "        pass\n",
    "\n",
    "\n",
    "\n",
    "class Cachorro(Animal):\n",
    "    def speak(self):\n",
    "        print('Au Au')\n",
    "\n",
    "\n",
    "class Gato(Animal):\n",
    "    def speak(self):\n",
    "        print('Miau')\n"
   ]
  },
  {
   "cell_type": "code",
   "execution_count": 73,
   "metadata": {},
   "outputs": [],
   "source": [
    "def som_animais(animal):\n",
    "    animal.speak()\n"
   ]
  },
  {
   "cell_type": "code",
   "execution_count": 76,
   "metadata": {},
   "outputs": [],
   "source": [
    "gato = Gato()\n",
    "cachorro = Cachorro()"
   ]
  },
  {
   "cell_type": "code",
   "execution_count": 77,
   "metadata": {},
   "outputs": [
    {
     "name": "stdout",
     "output_type": "stream",
     "text": [
      "Au Au\n"
     ]
    }
   ],
   "source": [
    "som_animais(cachorro)"
   ]
  },
  {
   "cell_type": "markdown",
   "metadata": {},
   "source": [
    "O motivo de usar o polimorfismo é promover uma maior flexibilidade e reutilização de código. Com ele, podemos escrever funções e classes que operam sobre objetos genéricos, e essas funções podem ser utilizadas com diferentes tipos de objetos sem necessidade de alterações no código. Isso torna o código mais modular, mais fácil de entender e de dar manutenção."
   ]
  }
 ],
 "metadata": {
  "kernelspec": {
   "display_name": "Python 3",
   "language": "python",
   "name": "python3"
  },
  "language_info": {
   "codemirror_mode": {
    "name": "ipython",
    "version": 3
   },
   "file_extension": ".py",
   "mimetype": "text/x-python",
   "name": "python",
   "nbconvert_exporter": "python",
   "pygments_lexer": "ipython3",
   "version": "3.12.3"
  }
 },
 "nbformat": 4,
 "nbformat_minor": 2
}

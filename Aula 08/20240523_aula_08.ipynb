{
 "cells": [
  {
   "cell_type": "markdown",
   "metadata": {},
   "source": [
    "## Aula 08 - Aula 08 - Manipulação de Arquivos e Sistema\n",
    "\n",
    " - Leitura e escrita de arquivos: open(), read(), write(), close().\n",
    " - Manipulação de diretórios: os.path, os module."
   ]
  },
  {
   "cell_type": "markdown",
   "metadata": {},
   "source": [
    "____________________________________"
   ]
  },
  {
   "cell_type": "markdown",
   "metadata": {},
   "source": [
    "### Leitura e escrita de arquivos\n",
    "\n",
    "A leitura e escrita de arquivos é uma tarefa muito comum em programação. O Python possui funções nativas para manipulação de arquivos. Ela permite que você leia e escreva arquivos de texto, binários, entre outros."
   ]
  },
  {
   "cell_type": "markdown",
   "metadata": {},
   "source": [
    "#### Abrindo um arquivo\n",
    "\n",
    "Em python, para abrir um arquivo, utilizamos a função `open()`. Esta função retorna um objeto do tipo arquivo, que possui métodos para leitura e escrita de arquivos.\n",
    "\n",
    "```python\n",
    "arquivo = open('arquivo.txt', 'r')\n",
    "```\n",
    "\n",
    "O primeiro argumento é o nome do arquivo e o segundo argumento é o modo de abertura do arquivo. Os modos de abertura são:\n",
    "\n",
    "- 'r': leitura\n",
    "- 'w': escrita\n",
    "- 'a': escrita no final do arquivo\n",
    "- 'r+': leitura e escrita\n",
    "- 'w+': leitura e escrita, apaga o conteúdo do arquivo\n",
    "- 'a+': leitura e escrita, escrita no final do arquivo\n"
   ]
  },
  {
   "cell_type": "code",
   "execution_count": 31,
   "metadata": {},
   "outputs": [],
   "source": [
    "arquivo = open('teste.txt', 'r', encoding='utf-8')"
   ]
  },
  {
   "cell_type": "code",
   "execution_count": 32,
   "metadata": {},
   "outputs": [
    {
     "data": {
      "text/plain": [
       "<_io.TextIOWrapper name='teste.txt' mode='r' encoding='utf-8'>"
      ]
     },
     "execution_count": 32,
     "metadata": {},
     "output_type": "execute_result"
    }
   ],
   "source": [
    "arquivo"
   ]
  },
  {
   "cell_type": "markdown",
   "metadata": {},
   "source": [
    "#### Lendo um arquivo\n",
    "\n",
    "Para ler o conteúdo de um arquivo, utilizamos o método `read()`.\n",
    "\n",
    "```python\n",
    "conteudo = arquivo.read()\n",
    "```\n",
    "\n",
    "O método `read()` lê todo o conteúdo do arquivo e retorna uma string com o conteúdo.\n",
    "\n"
   ]
  },
  {
   "cell_type": "code",
   "execution_count": 33,
   "metadata": {},
   "outputs": [],
   "source": [
    "conteudo = arquivo.read()\n"
   ]
  },
  {
   "cell_type": "code",
   "execution_count": 34,
   "metadata": {},
   "outputs": [
    {
     "name": "stdout",
     "output_type": "stream",
     "text": [
      "Esse é o primeiro registroEsse é o primeiro registro\n"
     ]
    }
   ],
   "source": [
    "print(conteudo)"
   ]
  },
  {
   "cell_type": "markdown",
   "metadata": {},
   "source": [
    "#### Escrevendo em um arquivo\n",
    "\n",
    "Para escrever em um arquivo, utilizamos o método `write()`.\n",
    "\n",
    "```python\n",
    "arquivo.write('Olá, mundo!')\n",
    "```\n",
    "\n",
    "O método `write()` escreve a string passada como argumento no arquivo."
   ]
  },
  {
   "cell_type": "code",
   "execution_count": 35,
   "metadata": {},
   "outputs": [],
   "source": [
    "arquivo.close()"
   ]
  },
  {
   "cell_type": "code",
   "execution_count": 36,
   "metadata": {},
   "outputs": [],
   "source": [
    "arquivo = open('teste.txt', 'w')"
   ]
  },
  {
   "cell_type": "code",
   "execution_count": 37,
   "metadata": {},
   "outputs": [
    {
     "data": {
      "text/plain": [
       "15"
      ]
     },
     "execution_count": 37,
     "metadata": {},
     "output_type": "execute_result"
    }
   ],
   "source": [
    "arquivo.write(\"Nova informação\")"
   ]
  },
  {
   "cell_type": "markdown",
   "metadata": {},
   "source": [
    "#### Fechando um arquivo\n",
    "\n",
    "Sempre que terminar de trabalhar com um arquivo, é importante fechá-lo. Para fechar um arquivo, utilizamos o método `close()`.\n",
    "\n",
    "```python\n",
    "arquivo.close()\n",
    "```\n",
    "\n",
    "O método with é uma forma mais segura de abrir e fechar arquivos. Ele garante que o arquivo será fechado mesmo se ocorrer um erro durante a execução do código.\n",
    "\n",
    "```python\n",
    "with open('arquivo.txt', 'r') as arquivo:\n",
    "    conteudo = arquivo.read()\n",
    "```\n",
    "\n",
    "\n"
   ]
  },
  {
   "cell_type": "code",
   "execution_count": 45,
   "metadata": {},
   "outputs": [],
   "source": [
    "with open('teste.txt', 'w', encoding='utf-8') as arquivo:\n",
    "    arquivo.write(\"Testando o método with\")"
   ]
  },
  {
   "cell_type": "code",
   "execution_count": 46,
   "metadata": {},
   "outputs": [
    {
     "name": "stdout",
     "output_type": "stream",
     "text": [
      "Testando o método with\n"
     ]
    }
   ],
   "source": [
    "with open('teste.txt', 'r', encoding='utf-8') as arquivo:\n",
    "    conteudo = arquivo.read()\n",
    "\n",
    "print(conteudo)"
   ]
  },
  {
   "cell_type": "markdown",
   "metadata": {},
   "source": [
    "### Manipulação de diretórios\n",
    "\n",
    "O Python possui um módulo chamado `os` que permite manipular diretórios e arquivos. O módulo `os` possui funções para criar, remover, renomear diretórios, entre outras.\n",
    "\n"
   ]
  },
  {
   "cell_type": "markdown",
   "metadata": {},
   "source": [
    "#### Criando um diretório\n",
    "\n",
    "Para criar um diretório, utilizamos a função `mkdir()`.\n",
    "\n",
    "```python\n",
    "import os\n",
    "\n",
    "os.mkdir('caminho/do/novo/diretorio')\n",
    "```\n",
    "\n",
    "A função `mkdir()` cria um diretório com o nome passado como argumento."
   ]
  },
  {
   "cell_type": "code",
   "execution_count": 2,
   "metadata": {},
   "outputs": [],
   "source": [
    "import os"
   ]
  },
  {
   "cell_type": "code",
   "execution_count": 13,
   "metadata": {},
   "outputs": [],
   "source": [
    "os.mkdir('backup/2024')"
   ]
  },
  {
   "cell_type": "markdown",
   "metadata": {},
   "source": [
    "#### Listando arquivos de um diretório\n",
    "\n",
    "Para listar os arquivos de um diretório, utilizamos a função `listdir()`.\n",
    "\n",
    "```python\n",
    "import os\n",
    "\n",
    "arquivos = os.listdir('caminho/do/diretorio')\n",
    "```\n",
    "\n",
    "A função `listdir()` retorna uma lista com os nomes dos arquivos e diretórios do diretório passado como argumento."
   ]
  },
  {
   "cell_type": "code",
   "execution_count": 52,
   "metadata": {},
   "outputs": [],
   "source": [
    "diretorios = os.listdir('backup')"
   ]
  },
  {
   "cell_type": "code",
   "execution_count": 56,
   "metadata": {},
   "outputs": [
    {
     "name": "stdout",
     "output_type": "stream",
     "text": [
      "2023\n",
      "2024\n"
     ]
    }
   ],
   "source": [
    "for dir in diretorios:\n",
    "    print(dir)"
   ]
  },
  {
   "cell_type": "markdown",
   "metadata": {},
   "source": [
    "#### Renomeando um arquivo\n",
    "\n",
    "Para renomear um arquivo, utilizamos a função `rename()`.\n",
    "\n",
    "```python\n",
    "import os\n",
    "\n",
    "os.rename('nome_antigo.txt', 'nome_novo.txt')\n",
    "```\n",
    "\n",
    "A função `rename()` renomeia o arquivo passado como primeiro argumento para o nome passado como segundo argumento."
   ]
  },
  {
   "cell_type": "code",
   "execution_count": 3,
   "metadata": {},
   "outputs": [],
   "source": [
    "os.rename('teste.txt', 'teste_old.txt')"
   ]
  },
  {
   "cell_type": "markdown",
   "metadata": {},
   "source": [
    "#### Removendo um arquivo\n",
    "\n",
    "Para remover um arquivo, utilizamos a função `remove()`.\n",
    "\n",
    "```python\n",
    "import os\n",
    "\n",
    "os.remove('arquivo.txt')\n",
    "```\n",
    "\n",
    "A função `remove()` remove o arquivo passado como argumento."
   ]
  },
  {
   "cell_type": "code",
   "execution_count": 6,
   "metadata": {},
   "outputs": [],
   "source": [
    "os.remove('backup/2024/meu_arquivo_old.txt')"
   ]
  },
  {
   "cell_type": "markdown",
   "metadata": {},
   "source": [
    "#### Removendo um diretório\n",
    "\n",
    "Para remover um diretório, utilizamos a função `rmdir()`.\n",
    "\n",
    "```python\n",
    "import os\n",
    "\n",
    "os.rmdir('caminho/do/diretorio')\n",
    "```\n",
    "\n",
    "A função `rmdir()` remove o diretório passado como argumento."
   ]
  },
  {
   "cell_type": "code",
   "execution_count": 9,
   "metadata": {},
   "outputs": [],
   "source": [
    "os.rmdir('backup')"
   ]
  },
  {
   "cell_type": "markdown",
   "metadata": {},
   "source": [
    "#### Verificando se um arquivo ou diretório existe\n",
    "\n",
    "Para verificar se um arquivo ou diretório existe, utilizamos a função `exists()`.\n",
    "\n",
    "```python\n",
    "import os\n",
    "\n",
    "if os.path.exists('arquivo.txt'):\n",
    "    print('O arquivo existe')\n",
    "else:\n",
    "    print('O arquivo não existe')\n",
    "```\n",
    "\n",
    "A função `exists()` retorna `True` se o arquivo ou diretório passado como argumento existe, e `False` caso contrário."
   ]
  },
  {
   "cell_type": "code",
   "execution_count": 18,
   "metadata": {},
   "outputs": [
    {
     "name": "stdout",
     "output_type": "stream",
     "text": [
      "O arquivo não existe no diretorio ./backup/2023\n",
      "O arquivo existe no diretorio ./backup/2024\n"
     ]
    }
   ],
   "source": [
    "diretorios = os.listdir('backup')\n",
    "\n",
    "for dir in diretorios:\n",
    "    if os.path.exists(f\"backup/{dir}/arquivo_1.txt\"):\n",
    "        print(f\"O arquivo existe no diretorio ./backup/{dir}\")\n",
    "    else:\n",
    "        print(f\"O arquivo não existe no diretorio ./backup/{dir}\")"
   ]
  },
  {
   "cell_type": "markdown",
   "metadata": {},
   "source": [
    "#### Verificando se um arquivo é um diretório\n",
    "\n",
    "Para verificar se um arquivo é um diretório, utilizamos a função `isdir()`.\n",
    "\n",
    "```python\n",
    "import os\n",
    "\n",
    "if os.path.isdir('caminho/do/diretorio'):\n",
    "    print('É um diretório')\n",
    "else:\n",
    "    print('Não é um diretório')\n",
    "```\n",
    "\n",
    "A função `isdir()` retorna `True` se o arquivo passado como argumento é um diretório, e `False` caso contrário."
   ]
  },
  {
   "cell_type": "code",
   "execution_count": 20,
   "metadata": {},
   "outputs": [
    {
     "data": {
      "text/plain": [
       "False"
      ]
     },
     "execution_count": 20,
     "metadata": {},
     "output_type": "execute_result"
    }
   ],
   "source": [
    "os.path.isdir('backup/2023/arquivo_2.txt')"
   ]
  },
  {
   "cell_type": "markdown",
   "metadata": {},
   "source": [
    "#### Verificando se um arquivo é um arquivo\n",
    "\n",
    "Para verificar se um arquivo é um arquivo, utilizamos a função `isfile()`.\n",
    "\n",
    "```python\n",
    "import os\n",
    "\n",
    "if os.path.isfile('arquivo.txt'):\n",
    "    print('É um arquivo')\n",
    "else:\n",
    "    print('Não é um arquivo')\n",
    "```\n",
    "\n",
    "A função `isfile()` retorna `True` se o arquivo passado como argumento é um arquivo, e `False` caso contrário.\n"
   ]
  },
  {
   "cell_type": "code",
   "execution_count": 23,
   "metadata": {},
   "outputs": [
    {
     "data": {
      "text/plain": [
       "False"
      ]
     },
     "execution_count": 23,
     "metadata": {},
     "output_type": "execute_result"
    }
   ],
   "source": [
    "os.path.isfile('backup/2023')"
   ]
  },
  {
   "cell_type": "markdown",
   "metadata": {},
   "source": [
    "#### Dividindo um caminho de arquivo\n",
    "\n",
    "Para dividir um caminho de arquivo em diretório e nome do arquivo, utilizamos a função `split()`.\n",
    "\n",
    "```python\n",
    "import os\n",
    "\n",
    "diretorio, arquivo = os.path.split('caminho/do/arquivo.txt')\n",
    "```\n",
    "\n",
    "A função `split()` retorna uma tupla com o diretório e o nome do arquivo."
   ]
  },
  {
   "cell_type": "code",
   "execution_count": 34,
   "metadata": {},
   "outputs": [],
   "source": [
    "dir, file = os.path.split('backup/2024/arquivo_1.txt')"
   ]
  },
  {
   "cell_type": "code",
   "execution_count": 35,
   "metadata": {},
   "outputs": [
    {
     "name": "stdout",
     "output_type": "stream",
     "text": [
      "O caminho do arquivo é backup/2024 e o nome do arquivo encontrado é arquivo_1.txt\n"
     ]
    }
   ],
   "source": [
    "print(f\"O caminho do arquivo é {dir} e o nome do arquivo encontrado é {file}\")"
   ]
  },
  {
   "cell_type": "markdown",
   "metadata": {},
   "source": [
    "___________________"
   ]
  },
  {
   "cell_type": "markdown",
   "metadata": {},
   "source": []
  }
 ],
 "metadata": {
  "kernelspec": {
   "display_name": "Python 3",
   "language": "python",
   "name": "python3"
  },
  "language_info": {
   "codemirror_mode": {
    "name": "ipython",
    "version": 3
   },
   "file_extension": ".py",
   "mimetype": "text/x-python",
   "name": "python",
   "nbconvert_exporter": "python",
   "pygments_lexer": "ipython3",
   "version": "3.12.3"
  }
 },
 "nbformat": 4,
 "nbformat_minor": 2
}

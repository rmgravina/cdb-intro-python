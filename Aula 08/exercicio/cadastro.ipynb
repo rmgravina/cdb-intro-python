{
 "cells": [
  {
   "cell_type": "code",
   "execution_count": null,
   "metadata": {},
   "outputs": [],
   "source": [
    "import os"
   ]
  },
  {
   "cell_type": "code",
   "execution_count": null,
   "metadata": {},
   "outputs": [],
   "source": [
    "def escrita_arquivo(filename, conteudo, metodo):\n",
    "    if metodo == 'w':\n",
    "        with open(filename, 'w') as f:\n",
    "            f.write(conteudo)\n",
    "    \n",
    "    if metodo == 'a':\n",
    "        with open(filename, 'a') as f:\n",
    "            f.write(conteudo)\n"
   ]
  },
  {
   "cell_type": "code",
   "execution_count": null,
   "metadata": {},
   "outputs": [],
   "source": [
    "escrita_arquivo('lista_de_presença.txt', 'Edimilson Quelipe\\n', 'a')"
   ]
  },
  {
   "cell_type": "code",
   "execution_count": null,
   "metadata": {},
   "outputs": [],
   "source": [
    "def ler_arquivo(filename):\n",
    "    if os.path.exists(filename):\n",
    "        with open(filename, 'r') as f:\n",
    "            conteudo = f.read()\n",
    "            print(conteudo)\n",
    "    \n",
    "    else:\n",
    "        print(f'O arquivo {filename} não existe!')\n"
   ]
  },
  {
   "cell_type": "code",
   "execution_count": null,
   "metadata": {},
   "outputs": [],
   "source": [
    "def manipulacao_diretorios(diretorio):\n",
    "    if not os.path.exists(diretorio):\n",
    "        os.mkdir(diretorio)\n",
    "        print(f\"Foi criado o diretório: {diretorio}\")\n",
    "    \n",
    "    diretorios_content = os.listdir(diretorio)\n",
    "\n",
    "    if os.path.exists('lista_de_presença.txt'):\n",
    "        with open('lista_de_presença.txt', 'r') as f_original:\n",
    "            conteudo_original = f_original.read()\n",
    "\n",
    "        with open(f\"{diretorio}/lista_de_presença_backup.txt\", 'w') as f_backup:\n",
    "            f_backup.write(conteudo_original)\n",
    "        \n",
    "        print(\"Processo concluído\")\n"
   ]
  },
  {
   "cell_type": "code",
   "execution_count": null,
   "metadata": {},
   "outputs": [],
   "source": [
    "manipulacao_diretorios('backup')"
   ]
  },
  {
   "cell_type": "code",
   "execution_count": null,
   "metadata": {},
   "outputs": [],
   "source": [
    "def verificacoes(filename):\n",
    "\n",
    "    if os.path.isfile(filename):\n",
    "        print(f\"Nome: {filename}\\nTipo: {filename.split('.')[1]}\")\n",
    "        \n",
    "    if os.path.exists(filename):\n",
    "        print(f\"\\nO arquivo {filename} existe!\")\n",
    "    "
   ]
  },
  {
   "cell_type": "code",
   "execution_count": null,
   "metadata": {},
   "outputs": [],
   "source": [
    "verificacoes('lista_de_presença.txt')"
   ]
  },
  {
   "cell_type": "code",
   "execution_count": null,
   "metadata": {},
   "outputs": [],
   "source": [
    "while True:\n",
    "\n",
    "    aluno = str(input(\"Digite o nome do aluno (Ou digite 'sair'): \"))\n",
    "    \n",
    "\n",
    "    if aluno == 'sair':\n",
    "        print(\"Lista Atualizada:\\n\")\n",
    "        ler_arquivo('lista_de_presença.txt')\n",
    "        break\n",
    "\n",
    "    aluno = aluno + '\\n'\n",
    "    escrita_arquivo('lista_de_presença.txt', aluno, 'a')\n",
    "    print(f\"Aluno: {aluno} adicionado a lista de presença!\")\n"
   ]
  },
  {
   "cell_type": "code",
   "execution_count": null,
   "metadata": {},
   "outputs": [],
   "source": []
  },
  {
   "cell_type": "code",
   "execution_count": null,
   "metadata": {},
   "outputs": [],
   "source": []
  }
 ],
 "metadata": {
  "kernelspec": {
   "display_name": "venv",
   "language": "python",
   "name": "python3"
  },
  "language_info": {
   "codemirror_mode": {
    "name": "ipython",
    "version": 3
   },
   "file_extension": ".py",
   "mimetype": "text/x-python",
   "name": "python",
   "nbconvert_exporter": "python",
   "pygments_lexer": "ipython3",
   "version": "3.12.3"
  }
 },
 "nbformat": 4,
 "nbformat_minor": 2
}

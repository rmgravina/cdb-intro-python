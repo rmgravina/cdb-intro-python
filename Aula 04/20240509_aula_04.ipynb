{
 "cells": [
  {
   "cell_type": "markdown",
   "metadata": {},
   "source": [
    "## Aula 04 - Funções em Python\n",
    "\n",
    "\n",
    " - Definição e chamada de funções\n",
    " - Parâmetros e retorno de funções\n",
    " - Escopo de variáveis\n",
    " - Projeto IA: Corretor de código\n",
    " "
   ]
  },
  {
   "cell_type": "markdown",
   "metadata": {},
   "source": [
    "____________________________________"
   ]
  },
  {
   "cell_type": "markdown",
   "metadata": {},
   "source": [
    "### Controles de laços\n",
    "\n",
    "O controle de laços permite que você altere o fluxo de execução de um laço de repetição.\n",
    "\n",
    "- `break`: interrompe a execução do laço de repetição.\n",
    "    \n",
    "    ```python\n",
    "    for i in range(10):\n",
    "        if i == 5:\n",
    "            break\n",
    "        print(i)\n",
    "    ```\n",
    "- `continue`: interrompe a execução do bloco de código atual e continua com a próxima iteração do laço de repetição.\n",
    "\n",
    "    ```python\n",
    "    for i in range(10):\n",
    "        if i > 5:\n",
    "            print(\"i é maior que 5\")\n",
    "        else:\n",
    "            continue\n",
    "    ```"
   ]
  },
  {
   "cell_type": "code",
   "execution_count": 6,
   "metadata": {},
   "outputs": [
    {
     "name": "stdout",
     "output_type": "stream",
     "text": [
      "0 é menor que 10\n",
      "1 é menor que 10\n",
      "2 é menor que 10\n",
      "3 é menor que 10\n",
      "4 é menor que 10\n",
      "5 é menor que 10\n",
      "6 é menor que 10\n",
      "7 é menor que 10\n",
      "8 é menor que 10\n",
      "9 é menor que 10\n",
      "10 é menor que 10\n"
     ]
    }
   ],
   "source": [
    "for i in range(20):\n",
    "    if i > 10:\n",
    "        continue\n",
    "\n",
    "    else:\n",
    "        print(\"{} é menor que 10\".format(i))\n",
    "        "
   ]
  },
  {
   "cell_type": "markdown",
   "metadata": {},
   "source": [
    "### Funções em Python\n",
    "\n",
    "Funções são blocos de código que são executados quando chamados. Elas podem receber parâmetros e retornar valores. As funções podem aceitar qualquer número de parâmetros e podem retornar qualquer número de valores.\n",
    "\n"
   ]
  },
  {
   "cell_type": "markdown",
   "metadata": {},
   "source": [
    "##### Definição e chamada de funções\n",
    "\n",
    "As funções são definidas com a palavra-chave `def` seguida do nome da função e dos parâmetros entre parênteses. O bloco de código da função é definido por uma indentação.\n",
    "\n",
    "```python\n",
    "def minha_funcao(parametros):\n",
    "    # bloco de código\n",
    "    return valor\n",
    "```\n",
    "\n",
    "Para chamar uma função, basta escrever o nome da função seguido dos parâmetros entre parênteses.\n",
    "\n",
    "```python\n",
    "minha_funcao(argumentos)\n",
    "```\n"
   ]
  },
  {
   "cell_type": "code",
   "execution_count": 24,
   "metadata": {},
   "outputs": [],
   "source": [
    "def sqrt(x):\n",
    "    raiz = x ** (1/2)\n",
    "    return raiz"
   ]
  },
  {
   "cell_type": "code",
   "execution_count": 23,
   "metadata": {},
   "outputs": [
    {
     "data": {
      "text/plain": [
       "5.0"
      ]
     },
     "execution_count": 23,
     "metadata": {},
     "output_type": "execute_result"
    }
   ],
   "source": [
    "sqrt(25)"
   ]
  },
  {
   "cell_type": "code",
   "execution_count": 22,
   "metadata": {},
   "outputs": [
    {
     "name": "stdout",
     "output_type": "stream",
     "text": [
      "5.0\n"
     ]
    }
   ],
   "source": [
    "print(a)"
   ]
  },
  {
   "cell_type": "code",
   "execution_count": 15,
   "metadata": {},
   "outputs": [
    {
     "name": "stdout",
     "output_type": "stream",
     "text": [
      "5.0\n"
     ]
    }
   ],
   "source": [
    "import math\n",
    "\n",
    "raiz_numero = math.sqrt(25)\n",
    "print(raiz_numero)"
   ]
  },
  {
   "cell_type": "markdown",
   "metadata": {},
   "source": [
    "##### Parâmetros e retorno de funções\n",
    "\n",
    "Parâmetros: são os valores que a função recebe para executar uma tarefa. Eles são opcionais e podem ser de qualquer tipo. São passados para a função entre parênteses.\n",
    "\n",
    "```python\n",
    "def minha_funcao(parametro1, parametro2):\n",
    "    # bloco de código\n",
    "```\n",
    "\n",
    "Retorno: é o valor que a função retorna após a execução. O retorno é opcional e pode ser de qualquer tipo.\n",
    "\n",
    "```python\n",
    "def minha_funcao(parametros):\n",
    "    # bloco de código\n",
    "    return valor\n",
    "```\n"
   ]
  },
  {
   "cell_type": "code",
   "execution_count": 36,
   "metadata": {},
   "outputs": [
    {
     "name": "stdout",
     "output_type": "stream",
     "text": [
      "5.0\n"
     ]
    }
   ],
   "source": [
    "def exponencial(valor, exp=5):\n",
    "\n",
    "    resultado = valor ** exp\n",
    "\n",
    "    return resultado\n",
    "\n",
    "def raiz():\n",
    "    return 0.5\n",
    "\n",
    "\n",
    "print(exponencial(25, exp=raiz()))"
   ]
  },
  {
   "cell_type": "markdown",
   "metadata": {},
   "source": [
    "##### Escopo de variáveis\n",
    "\n",
    "O escopo de uma variável é o contexto em que ela é definida e pode ser acessada. Em Python, existem dois tipos de escopo: global e local.\n",
    "\n",
    "- Escopo global: variáveis definidas fora de uma função são globais e podem ser acessadas de qualquer lugar do código.\n",
    "\n",
    "- Escopo local: variáveis definidas dentro de uma função são locais e só podem ser acessadas dentro da função.\n",
    "\n",
    "```python\n",
    "variavel_global = 10\n",
    "\n",
    "def minha_funcao():\n",
    "    variavel_local = 20\n",
    "    print(variavel_global)  # acessa a variável global\n",
    "    print(variavel_local)   # acessa a variável local\n",
    "\n",
    "minha_funcao()\n",
    "print(variavel_global)  # acessa a variável global\n",
    "print(variavel_local)   # erro: variável local não definida\n",
    "```\n"
   ]
  },
  {
   "cell_type": "code",
   "execution_count": 43,
   "metadata": {},
   "outputs": [
    {
     "name": "stdout",
     "output_type": "stream",
     "text": [
      "60\n"
     ]
    }
   ],
   "source": []
  },
  {
   "cell_type": "markdown",
   "metadata": {},
   "source": [
    "### Projeto IA: Corretor de código\n",
    "\n",
    "Vamos realizar um projeto de IA para corrigir erros de código. O objetivo é criar uma aplicação com IA generativa que receba um código com erros e retorne o código corrigido. \n",
    "\n",
    "Para isso, vamos usar as seguintes bibliotecas:\n",
    "\n",
    "`streamlit` para criar a interface da aplicação.\n",
    "<br>\n",
    "`google-generativeai` para criar o modelo"
   ]
  }
 ],
 "metadata": {
  "kernelspec": {
   "display_name": "Python 3",
   "language": "python",
   "name": "python3"
  },
  "language_info": {
   "codemirror_mode": {
    "name": "ipython",
    "version": 3
   },
   "file_extension": ".py",
   "mimetype": "text/x-python",
   "name": "python",
   "nbconvert_exporter": "python",
   "pygments_lexer": "ipython3",
   "version": "3.12.3"
  }
 },
 "nbformat": 4,
 "nbformat_minor": 2
}

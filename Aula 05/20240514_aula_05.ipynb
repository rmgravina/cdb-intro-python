{
 "cells": [
  {
   "cell_type": "markdown",
   "metadata": {},
   "source": [
    "## Aula 05 - Estruturas de Dados Básicas\n",
    "\n",
    " - Strings e suas operações\n",
    " - Listas e tuplas\n",
    " - Dicionários\n",
    " - Conjuntos\n",
    " "
   ]
  },
  {
   "cell_type": "markdown",
   "metadata": {},
   "source": [
    "____________________________________"
   ]
  },
  {
   "cell_type": "markdown",
   "metadata": {},
   "source": [
    "### Strings e suas operações\n",
    "\n",
    "Uma string é uma sequência de caracteres, e em Python, elas são imutáveis, o que significa que não podem ser alteradas após a criação. No entanto, é possível realizar várias operações com strings, como concatenação, fatiamento, busca, substituição, entre outras.\n"
   ]
  },
  {
   "cell_type": "markdown",
   "metadata": {},
   "source": [
    "#### Concatenação\n",
    "\n",
    "A concatenação de strings é feita com o operador `+`. Por exemplo, para concatenar as strings \"Olá\" e \"Mundo\", basta fazer:\n",
    "\n",
    "```python\n",
    "s1 = \"Introdução à \"\n",
    "s2 = \"Python\"\n",
    "s3 = s1 + s2\n",
    "print(s3)\n",
    "```"
   ]
  },
  {
   "cell_type": "code",
   "execution_count": 5,
   "metadata": {},
   "outputs": [
    {
     "data": {
      "text/plain": [
       "'11'"
      ]
     },
     "execution_count": 5,
     "metadata": {},
     "output_type": "execute_result"
    }
   ],
   "source": [
    "texto1 = '1'\n",
    "texto2 = '1'\n",
    "frase = texto1 + texto2\n",
    "\n",
    "frase"
   ]
  },
  {
   "cell_type": "markdown",
   "metadata": {},
   "source": [
    "#### Fatiamento\n",
    "\n",
    "O fatiamento de strings é feito com o operador `[]`. Por exemplo, para pegar o primeiro caractere de uma string, basta fazer:\n",
    "\n",
    "```python\n",
    "s = \"Codigos do Bem\"\n",
    "print(s[0])\n",
    "print(s[1:4])\n",
    "print(s[4:])\n",
    "print(s[:])\n",
    "```"
   ]
  },
  {
   "cell_type": "code",
   "execution_count": 16,
   "metadata": {},
   "outputs": [
    {
     "name": "stdout",
     "output_type": "stream",
     "text": [
      "introducao \n"
     ]
    }
   ],
   "source": [
    "frase = \"introducao a python\"\n",
    "\n",
    "primeira_palavra = frase[:11]\n",
    "\n",
    "print(primeira_palavra)"
   ]
  },
  {
   "cell_type": "markdown",
   "metadata": {},
   "source": [
    "\n",
    "#### Busca\n",
    "\n",
    "Para buscar um caractere ou uma substring em uma string, podemos utilizar o operador `in`. Por exemplo, para verificar se a string \"Olá\" está contida na string \"Olá Mundo\", basta fazer:\n",
    "\n",
    "```python\n",
    "s = \"Vamos aprender Python, IA, e ML\"\n",
    "print(\"Python\" in s)\n",
    "print(\"ML\" not in s)\n",
    "```\n"
   ]
  },
  {
   "cell_type": "code",
   "execution_count": 26,
   "metadata": {},
   "outputs": [
    {
     "name": "stdout",
     "output_type": "stream",
     "text": [
      "True\n"
     ]
    }
   ],
   "source": [
    "frase_busca = \"Vamos aprender Python, IA, e ML\".lower()\n",
    "\n",
    "print(\"vamos\"  in frase_busca)"
   ]
  },
  {
   "cell_type": "markdown",
   "metadata": {},
   "source": [
    "\n",
    "#### Substituição\n",
    "\n",
    "Para substituir uma substring por outra em uma string, podemos utilizar o método `replace()`. Por exemplo, para substituir a substring \"Olá\" por \"Oi\" na string \"Olá Mundo\", basta fazer:\n",
    "\n",
    "```python\n",
    "s = \"Olá Mundo\"\n",
    "s = s.replace(\"Olá\", \"Oi\")\n",
    "print(s)\n",
    "```\n"
   ]
  },
  {
   "cell_type": "code",
   "execution_count": 32,
   "metadata": {},
   "outputs": [
    {
     "name": "stdout",
     "output_type": "stream",
     "text": [
      "nome idade telefone\n"
     ]
    }
   ],
   "source": [
    "s = \"nome;idade;telefone\"\n",
    "print(s.replace(';', ' '))"
   ]
  },
  {
   "cell_type": "markdown",
   "metadata": {},
   "source": [
    "\n",
    "#### Outras operações\n",
    "\n",
    "Existem vários outros métodos e operações que podem ser realizados com strings em Python. Alguns deles são:\n"
   ]
  },
  {
   "cell_type": "markdown",
   "metadata": {},
   "source": [
    "\n",
    "- `len(s)`: Retorna o tamanho da string `s`.\n",
    "\n",
    "```python\n",
    "s = \"Olá Mundo\"\n",
    "print(len(s))\n",
    "```\n"
   ]
  },
  {
   "cell_type": "code",
   "execution_count": 34,
   "metadata": {},
   "outputs": [
    {
     "data": {
      "text/plain": [
       "21"
      ]
     },
     "execution_count": 34,
     "metadata": {},
     "output_type": "execute_result"
    }
   ],
   "source": [
    "nome = 'Rogério Machado Gravina'\n",
    "len(nome.replace(' ', ''))"
   ]
  },
  {
   "cell_type": "markdown",
   "metadata": {},
   "source": [
    "\n",
    "- `s.lower()`: Retorna uma cópia da string `s` com todos os caracteres em minúsculo.\n",
    "\n",
    "```python\n",
    "s = \"minusculas\"\n",
    "print(s.lower())\n",
    "```\n"
   ]
  },
  {
   "cell_type": "code",
   "execution_count": 38,
   "metadata": {},
   "outputs": [
    {
     "name": "stdout",
     "output_type": "stream",
     "text": [
      "True\n"
     ]
    }
   ],
   "source": [
    "s = \"Meu Nome é RoGério GRaVINA\"\n",
    "\n",
    "\n",
    "print('rogério gravina' in s.lower())"
   ]
  },
  {
   "cell_type": "markdown",
   "metadata": {},
   "source": [
    "\n",
    "- `s.upper()`: Retorna uma cópia da string `s` com todos os caracteres em maiúsculo.\n",
    "\n",
    "```python\n",
    "s = \"caixa alta\"\n",
    "print(s.upper())\n",
    "```\n"
   ]
  },
  {
   "cell_type": "code",
   "execution_count": 40,
   "metadata": {},
   "outputs": [
    {
     "name": "stdout",
     "output_type": "stream",
     "text": [
      "True\n"
     ]
    }
   ],
   "source": [
    "s = \"Meu Nome é RoGério GRaVINA\"\n",
    "\n",
    "\n",
    "print('ROGÉRIO GRAVINA' in s.upper())"
   ]
  },
  {
   "cell_type": "markdown",
   "metadata": {},
   "source": [
    "\n",
    "- `s.strip()`: Retorna uma cópia da string `s` sem os espaços em branco no início e no final.\n",
    "\n",
    "```python\n",
    "s = \" Palavra centralizada \"\n",
    "print(s.strip())\n",
    "```\n"
   ]
  },
  {
   "cell_type": "code",
   "execution_count": 42,
   "metadata": {},
   "outputs": [
    {
     "name": "stdout",
     "output_type": "stream",
     "text": [
      "rogerio gravina\n"
     ]
    }
   ],
   "source": [
    "name = ' rogerio gravina '\n",
    "print(name.strip())"
   ]
  },
  {
   "cell_type": "markdown",
   "metadata": {},
   "source": [
    "\n",
    "- `s.split(sep)`: Retorna uma lista de substrings da string `s` separadas pelo caractere `sep`.\n",
    "\n",
    "```python\n",
    "s = \"nome;idade;telefone;endereço;email\"\n",
    "print(s.split(\";\"))\n",
    "```"
   ]
  },
  {
   "cell_type": "code",
   "execution_count": 45,
   "metadata": {},
   "outputs": [
    {
     "name": "stdout",
     "output_type": "stream",
     "text": [
      "['rogerio', 'machado', 'gravina']\n"
     ]
    }
   ],
   "source": [
    "cabecalho = \"rogerio machado gravina\"\n",
    "\n",
    "print(cabecalho.split(' '))"
   ]
  },
  {
   "cell_type": "markdown",
   "metadata": {},
   "source": [
    "____________________"
   ]
  },
  {
   "cell_type": "markdown",
   "metadata": {},
   "source": [
    "### Listas e Tuplas\n",
    "\n",
    "Listas e tuplas são coleções ordenadas de elementos em Python, mas as listas são mutáveis, enquanto as tuplas são imutáveis. Elementos em uma lista podem ser alterados, adicionados ou removidos, enquanto os elementos de uma tupla não podem ser alterados após a criação."
   ]
  },
  {
   "cell_type": "markdown",
   "metadata": {},
   "source": [
    "#### Listas\n",
    "\n",
    "Para criar uma lista em Python, basta colocar os elementos entre colchetes `[]`. Por exemplo, para criar uma lista com os números de 1 a 5, basta fazer:\n",
    "\n",
    "```python\n",
    "lista = [1, 2, 3, 4, 5]\n",
    "print(lista)\n",
    "```\n",
    "\n",
    "#### Tuplas\n",
    "\n",
    "Para criar uma tupla em Python, basta colocar os elementos entre parênteses `()`. Por exemplo, para criar uma tupla com os números de 1 a 5, basta fazer:\n",
    "\n",
    "```python\n",
    "tupla = (1, 2, 3, 4, 5)\n",
    "print(tupla)\n",
    "```"
   ]
  },
  {
   "cell_type": "markdown",
   "metadata": {},
   "source": [
    "_______________________"
   ]
  },
  {
   "cell_type": "markdown",
   "metadata": {},
   "source": [
    "#### Operações com listas\n",
    "\n",
    "Assim como as strings, as listas também possuem vários métodos e operações que podem ser realizados. Alguns deles são:\n",
    "\n",
    " - `len(lista)`: Retorna o tamanho da lista `lista`.\n",
    "\n",
    "```python\n",
    "lista = [1, 2, 3, 4, 5]\n",
    "print(len(lista))\n",
    "```"
   ]
  },
  {
   "cell_type": "code",
   "execution_count": 48,
   "metadata": {},
   "outputs": [],
   "source": [
    "lista1 = [1, 'python', 'curso']\n"
   ]
  },
  {
   "cell_type": "markdown",
   "metadata": {},
   "source": [
    " - `lista.append(elemento)`: Adiciona o elemento `elemento` ao final da lista `lista`.\n",
    "\n",
    "```python\n",
    "lista = [1, 2, 3, 4, 5]\n",
    "lista.append(6)\n",
    "print(lista)\n",
    "```\n"
   ]
  },
  {
   "cell_type": "code",
   "execution_count": 55,
   "metadata": {},
   "outputs": [],
   "source": [
    "lista1\n",
    "lista1.append([1,2])"
   ]
  },
  {
   "cell_type": "code",
   "execution_count": 56,
   "metadata": {},
   "outputs": [
    {
     "data": {
      "text/plain": [
       "[1, 'python', 'curso', 'quelipe', 'quelipe', 0, [1, 2]]"
      ]
     },
     "execution_count": 56,
     "metadata": {},
     "output_type": "execute_result"
    }
   ],
   "source": [
    "lista1"
   ]
  },
  {
   "cell_type": "markdown",
   "metadata": {},
   "source": [
    "\n",
    " - `lista.insert(i, elemento)`: Adiciona o elemento `elemento` na posição `i` da lista `lista`.\n",
    "\n",
    "```python\n",
    "lista = [1, 2, 3, 4, 5]\n",
    "lista.insert(2, 6)\n",
    "print(lista)\n",
    "```\n"
   ]
  },
  {
   "cell_type": "code",
   "execution_count": 57,
   "metadata": {},
   "outputs": [],
   "source": [
    "lista_numeros = [1, 2, 3, 5, 6]"
   ]
  },
  {
   "cell_type": "code",
   "execution_count": 70,
   "metadata": {},
   "outputs": [
    {
     "data": {
      "text/plain": [
       "[0, 1, 2, 3, 4, 4, 4, 4, 4, 4, 4, 4, 4, 4, 4, 4, 5, 6]"
      ]
     },
     "execution_count": 70,
     "metadata": {},
     "output_type": "execute_result"
    }
   ],
   "source": [
    "lista_numeros.insert(4, 4)\n",
    "lista_numeros"
   ]
  },
  {
   "cell_type": "markdown",
   "metadata": {},
   "source": [
    "\n",
    " - `lista.pop(i)`: Remove o elemento na posição `i` da lista `lista`.\n",
    "\n",
    "```python\n",
    "lista = [1, 2, 3, 4, 5]\n",
    "lista.pop(2)\n",
    "print(lista)\n",
    "```\n",
    "\n",
    "```python\n",
    "lista = [1, 2, 3, 4, 5]\n",
    "lista.pop()\n",
    "print(lista)\n",
    "```\n"
   ]
  },
  {
   "cell_type": "code",
   "execution_count": 77,
   "metadata": {},
   "outputs": [],
   "source": [
    "nova_lista = [10, 20, 30]\n"
   ]
  },
  {
   "cell_type": "code",
   "execution_count": 82,
   "metadata": {},
   "outputs": [
    {
     "data": {
      "text/plain": [
       "30"
      ]
     },
     "execution_count": 82,
     "metadata": {},
     "output_type": "execute_result"
    }
   ],
   "source": [
    "nova_lista.pop()"
   ]
  },
  {
   "cell_type": "code",
   "execution_count": 83,
   "metadata": {},
   "outputs": [
    {
     "data": {
      "text/plain": [
       "[10]"
      ]
     },
     "execution_count": 83,
     "metadata": {},
     "output_type": "execute_result"
    }
   ],
   "source": [
    "nova_lista"
   ]
  },
  {
   "cell_type": "markdown",
   "metadata": {},
   "source": [
    "\n",
    " - `lista.remove(elemento)`: Remove a primeira ocorrência do elemento `elemento` da lista `lista`.\n",
    "\n",
    "```python\n",
    "lista = [1, 2, 3, 4, 5]\n",
    "lista.remove(3)\n",
    "print(lista)\n",
    "```\n",
    "\n",
    " "
   ]
  },
  {
   "cell_type": "code",
   "execution_count": 88,
   "metadata": {},
   "outputs": [
    {
     "data": {
      "text/plain": [
       "[1, 2, 3, 4, 5, 6, 7, 8, 3]"
      ]
     },
     "execution_count": 88,
     "metadata": {},
     "output_type": "execute_result"
    }
   ],
   "source": [
    "lista_numeros = [1,2,3,4,5,6,7,8,3]\n",
    "lista_numeros"
   ]
  },
  {
   "cell_type": "code",
   "execution_count": 91,
   "metadata": {},
   "outputs": [],
   "source": [
    "lista_numeros.remove(3)"
   ]
  },
  {
   "cell_type": "code",
   "execution_count": 92,
   "metadata": {},
   "outputs": [
    {
     "data": {
      "text/plain": [
       "[1, 2, 4, 5, 6, 7, 8]"
      ]
     },
     "execution_count": 92,
     "metadata": {},
     "output_type": "execute_result"
    }
   ],
   "source": [
    "lista_numeros"
   ]
  },
  {
   "cell_type": "markdown",
   "metadata": {},
   "source": [
    "- `lista.index(elemento)`: Retorna a posição da primeira ocorrência do elemento `elemento` na lista `lista`.\n",
    "\n",
    "```python\n",
    "lista = ['Python', 'Java', 'C', 'Python', 'JavaScript']\n",
    "print(lista.index('Python'))\n",
    "```\n"
   ]
  },
  {
   "cell_type": "code",
   "execution_count": 93,
   "metadata": {},
   "outputs": [
    {
     "data": {
      "text/plain": [
       "['Python', 'Java', 'C', 'Python', 'JavaScript']"
      ]
     },
     "execution_count": 93,
     "metadata": {},
     "output_type": "execute_result"
    }
   ],
   "source": [
    "lista = ['Python', 'Java', 'C', 'Python', 'JavaScript']\n",
    "lista"
   ]
  },
  {
   "cell_type": "code",
   "execution_count": 95,
   "metadata": {},
   "outputs": [
    {
     "name": "stdout",
     "output_type": "stream",
     "text": [
      "2\n"
     ]
    }
   ],
   "source": [
    "print(lista.index('C'))"
   ]
  },
  {
   "cell_type": "markdown",
   "metadata": {},
   "source": [
    "\n",
    " - `lista.count(elemento)`: Retorna o número de ocorrências do elemento `elemento` na lista `lista`.\n",
    "\n",
    "```python\n",
    "lista = ['Python', 'Java', 'C', 'Python', 'JavaScript']\n",
    "print(lista.count('Python'))\n",
    "```\n",
    "\n",
    " "
   ]
  },
  {
   "cell_type": "code",
   "execution_count": 99,
   "metadata": {},
   "outputs": [
    {
     "data": {
      "text/plain": [
       "1"
      ]
     },
     "execution_count": 99,
     "metadata": {},
     "output_type": "execute_result"
    }
   ],
   "source": [
    "lista.count(\"JavaScript\")"
   ]
  },
  {
   "cell_type": "markdown",
   "metadata": {},
   "source": [
    "- `lista.sort()`: Ordena a lista `lista`.\n",
    "\n",
    "```python\n",
    "lista = [3, 1, 4, 1, 5, 9, 2, 6, 5, 3, 5]\n",
    "lista.sort()\n",
    "print(lista)\n",
    "```\n"
   ]
  },
  {
   "cell_type": "code",
   "execution_count": 127,
   "metadata": {},
   "outputs": [],
   "source": [
    "lista_numeros = [3, 1, 4, 1, 5, 9, 2, 6, 5, 3, 5]\n",
    "lista_palavras = ['Curso', 'Vida', 'Amor', 'Python']\n"
   ]
  },
  {
   "cell_type": "code",
   "execution_count": 128,
   "metadata": {},
   "outputs": [
    {
     "name": "stdout",
     "output_type": "stream",
     "text": [
      "['Amor', 'Curso', 'Python', 'Vida']\n"
     ]
    }
   ],
   "source": [
    "\n",
    "lista_palavras.sort()\n",
    "print(lista_palavras)"
   ]
  },
  {
   "cell_type": "markdown",
   "metadata": {},
   "source": [
    "\n",
    " - `lista.reverse()`: Inverte a ordem dos elementos da lista `lista`.\n",
    "\n",
    "```python\n",
    "lista = [3, 1, 4, 1, 5, 9, 2, 6, 5, 3, 5]\n",
    "lista.reverse()\n",
    "print(lista)\n",
    "```\n"
   ]
  },
  {
   "cell_type": "code",
   "execution_count": 129,
   "metadata": {},
   "outputs": [
    {
     "data": {
      "text/plain": [
       "[3, 1, 4, 1, 5, 9, 2, 6, 5, 3, 5]"
      ]
     },
     "execution_count": 129,
     "metadata": {},
     "output_type": "execute_result"
    }
   ],
   "source": [
    "lista_numeros"
   ]
  },
  {
   "cell_type": "code",
   "execution_count": 113,
   "metadata": {},
   "outputs": [
    {
     "data": {
      "text/plain": [
       "[1, 1, 2, 3, 3, 4, 5, 5, 5, 6, 9]"
      ]
     },
     "execution_count": 113,
     "metadata": {},
     "output_type": "execute_result"
    }
   ],
   "source": [
    "lista_numeros.sort()\n",
    "lista_numeros"
   ]
  },
  {
   "cell_type": "code",
   "execution_count": 134,
   "metadata": {},
   "outputs": [
    {
     "data": {
      "text/plain": [
       "[9, 6, 5, 5, 5, 4, 3, 3, 2, 1, 1]"
      ]
     },
     "execution_count": 134,
     "metadata": {},
     "output_type": "execute_result"
    }
   ],
   "source": [
    "lista_numeros.sort(reverse=True)\n",
    "lista_numeros\n",
    "\n"
   ]
  },
  {
   "cell_type": "code",
   "execution_count": null,
   "metadata": {},
   "outputs": [],
   "source": []
  },
  {
   "cell_type": "markdown",
   "metadata": {},
   "source": [
    "\n",
    " - `lista.clear()`: Remove todos os elementos da lista `lista`.\n",
    "\n",
    "```python\n",
    "lista = [3, 1, 4, 1, 5, 9, 2, 6, 5, 3, 5]\n",
    "lista.clear()\n",
    "print(lista)\n",
    "```"
   ]
  },
  {
   "cell_type": "code",
   "execution_count": 135,
   "metadata": {},
   "outputs": [
    {
     "data": {
      "text/plain": [
       "[9, 6, 5, 5, 5, 4, 3, 3, 2, 1, 1]"
      ]
     },
     "execution_count": 135,
     "metadata": {},
     "output_type": "execute_result"
    }
   ],
   "source": [
    "lista_numeros"
   ]
  },
  {
   "cell_type": "code",
   "execution_count": 136,
   "metadata": {},
   "outputs": [],
   "source": [
    "lista_numeros.clear()"
   ]
  },
  {
   "cell_type": "code",
   "execution_count": 137,
   "metadata": {},
   "outputs": [
    {
     "data": {
      "text/plain": [
       "[]"
      ]
     },
     "execution_count": 137,
     "metadata": {},
     "output_type": "execute_result"
    }
   ],
   "source": [
    "lista_numeros"
   ]
  },
  {
   "cell_type": "markdown",
   "metadata": {},
   "source": [
    "________________"
   ]
  },
  {
   "cell_type": "markdown",
   "metadata": {},
   "source": [
    "#### Operações com tuplas\n",
    "\n",
    "As tuplas são imutáveis, então não é possível adicionar, remover ou alterar elementos de uma tupla. No entanto, é possível realizar algumas operações com tuplas, como:\n",
    "\n",
    " - `len(tupla)`: Retorna o tamanho da tupla `tupla`.\n",
    "\n",
    "```python\n",
    "tupla = (1, 2, 3, 4, 5)\n",
    "print(len(tupla))\n",
    "```\n",
    "\n",
    " - `tupla.index(elemento)`: Retorna a posição da primeira ocorrência do elemento `elemento` na tupla `tupla`.\n",
    "\n",
    "```python\n",
    "tupla = ('Python', 'Java', 'C', 'Python', 'JavaScript')\n",
    "print(tupla.index('Python'))\n",
    "```\n",
    "\n",
    " - `tupla.count(elemento)`: Retorna o número de ocorrências do elemento `elemento` na tupla `tupla`.\n",
    "\n",
    "```python\n",
    "tupla = ('Python', 'Java', 'C', 'Python', 'JavaScript')\n",
    "print(tupla.count('Python'))\n",
    "```\n"
   ]
  },
  {
   "cell_type": "code",
   "execution_count": null,
   "metadata": {},
   "outputs": [],
   "source": []
  },
  {
   "cell_type": "markdown",
   "metadata": {},
   "source": [
    "__________________"
   ]
  },
  {
   "cell_type": "markdown",
   "metadata": {},
   "source": [
    "### Dicionários\n",
    "\n",
    "Dicionários são coleções de pares chave-valor, onde cada chave única mapeia para um valor. Eles são mutáveis e podem conter diversos tipos de dados.\n",
    "\n",
    "Para criar um dicionário em Python, basta colocar os pares chave-valor entre chaves `{}`. Por exemplo, para criar um dicionário com as idades de algumas pessoas, basta fazer:\n",
    "\n",
    "```python\n",
    "dicionario = {'Alice': 25, 'Bob': 30, 'Charlie': 35}\n",
    "print(dicionario)\n",
    "```\n"
   ]
  },
  {
   "cell_type": "code",
   "execution_count": 138,
   "metadata": {},
   "outputs": [],
   "source": [
    "usuario1 = {'nome': 'Alice',\n",
    "            'idade': 35,\n",
    "            'altura': 1.62}"
   ]
  },
  {
   "cell_type": "code",
   "execution_count": 139,
   "metadata": {},
   "outputs": [
    {
     "data": {
      "text/plain": [
       "{'nome': 'Alice', 'idade': 35, 'altura': 1.62}"
      ]
     },
     "execution_count": 139,
     "metadata": {},
     "output_type": "execute_result"
    }
   ],
   "source": [
    "usuario1"
   ]
  },
  {
   "cell_type": "markdown",
   "metadata": {},
   "source": [
    "#### Operações com dicionários\n",
    "\n",
    "Assim como as strings e as listas, os dicionários também possuem vários métodos e operações que podem ser realizados. Alguns deles são:\n",
    "\n",
    " - `len(dicionario)`: Retorna o número de pares chave-valor no dicionário `dicionario`.\n",
    "\n",
    "```python\n",
    "dicionario = {'Alice': 25, 'Bob': 30, 'Charlie': 35}\n",
    "print(len(dicionario))\n",
    "```\n"
   ]
  },
  {
   "cell_type": "code",
   "execution_count": 140,
   "metadata": {},
   "outputs": [
    {
     "data": {
      "text/plain": [
       "3"
      ]
     },
     "execution_count": 140,
     "metadata": {},
     "output_type": "execute_result"
    }
   ],
   "source": [
    "len(usuario1)"
   ]
  },
  {
   "cell_type": "markdown",
   "metadata": {},
   "source": [
    "\n",
    " - `dicionario['chave']`: Retorna o valor associado à chave `chave` no dicionário `dicionario`.\n",
    "\n",
    "```python\n",
    "dicionario = {'Alice': 25, 'Bob': 30, 'Charlie': 35}\n",
    "print(dicionario['Bob'])\n",
    "```\n"
   ]
  },
  {
   "cell_type": "code",
   "execution_count": 143,
   "metadata": {},
   "outputs": [
    {
     "data": {
      "text/plain": [
       "35"
      ]
     },
     "execution_count": 143,
     "metadata": {},
     "output_type": "execute_result"
    }
   ],
   "source": [
    "usuario1['idade']"
   ]
  },
  {
   "cell_type": "markdown",
   "metadata": {},
   "source": [
    "\n",
    " - `dicionario['chave'] = valor`: Adiciona ou atualiza o valor associado à chave `chave` no dicionário `dicionario`.\n",
    "\n",
    "```python\n",
    "dicionario = {'Alice': 25, 'Bob': 30, 'Charlie': 35}\n",
    "dicionario['Alice'] = 26\n",
    "dicionario['David'] = 40\n",
    "print(dicionario)\n",
    "```\n",
    "\n",
    " "
   ]
  },
  {
   "cell_type": "code",
   "execution_count": 147,
   "metadata": {},
   "outputs": [
    {
     "data": {
      "text/plain": [
       "{'nome': 'Alice', 'idade': 35, 'altura': 1.62, 'peso': 50.1}"
      ]
     },
     "execution_count": 147,
     "metadata": {},
     "output_type": "execute_result"
    }
   ],
   "source": [
    "usuario1"
   ]
  },
  {
   "cell_type": "markdown",
   "metadata": {},
   "source": [
    "- `del dicionario['chave']`: Remove o par chave-valor associado à chave `chave` do dicionário `dicionario`.\n",
    "\n",
    "```python\n",
    "dicionario = {'Alice': 25, 'Bob': 30, 'Charlie': 35}\n",
    "del dicionario['Bob']\n",
    "print(dicionario)\n",
    "```\n"
   ]
  },
  {
   "cell_type": "code",
   "execution_count": 149,
   "metadata": {},
   "outputs": [
    {
     "data": {
      "text/plain": [
       "{'nome': 'Alice', 'idade': 35, 'altura': 1.62}"
      ]
     },
     "execution_count": 149,
     "metadata": {},
     "output_type": "execute_result"
    }
   ],
   "source": [
    "del usuario1['nome']"
   ]
  },
  {
   "cell_type": "markdown",
   "metadata": {},
   "source": [
    "\n",
    " - `dicionario.keys()`: Retorna uma lista com as chaves do dicionário `dicionario`.\n",
    "\n",
    "```python\n",
    "dicionario = {'Alice': 25, 'Bob': 30, 'Charlie': 35}\n",
    "print(dicionario.keys())\n",
    "```\n"
   ]
  },
  {
   "cell_type": "code",
   "execution_count": 150,
   "metadata": {},
   "outputs": [
    {
     "data": {
      "text/plain": [
       "dict_keys(['nome', 'idade', 'altura'])"
      ]
     },
     "execution_count": 150,
     "metadata": {},
     "output_type": "execute_result"
    }
   ],
   "source": [
    "usuario1.keys()"
   ]
  },
  {
   "cell_type": "markdown",
   "metadata": {},
   "source": [
    "\n",
    " - `dicionario.values()`: Retorna uma lista com os valores do dicionário `dicionario`.\n",
    "\n",
    "```python\n",
    "dicionario = {'Alice': 25, 'Bob': 30, 'Charlie': 35}\n",
    "print(dicionario.values())\n",
    "```\n",
    "\n",
    " "
   ]
  },
  {
   "cell_type": "code",
   "execution_count": 151,
   "metadata": {},
   "outputs": [
    {
     "data": {
      "text/plain": [
       "dict_values(['Alice', 35, 1.62])"
      ]
     },
     "execution_count": 151,
     "metadata": {},
     "output_type": "execute_result"
    }
   ],
   "source": [
    "usuario1.values()"
   ]
  },
  {
   "cell_type": "markdown",
   "metadata": {},
   "source": [
    "- `dicionario.items()`: Retorna uma lista de tuplas com os pares chave-valor do dicionário `dicionario`.\n",
    "\n",
    "```python\n",
    "dicionario = {'Alice': 25, 'Bob': 30, 'Charlie': 35}\n",
    "print(dicionario.items())\n",
    "```\n"
   ]
  },
  {
   "cell_type": "code",
   "execution_count": 152,
   "metadata": {},
   "outputs": [
    {
     "data": {
      "text/plain": [
       "dict_items([('nome', 'Alice'), ('idade', 35), ('altura', 1.62)])"
      ]
     },
     "execution_count": 152,
     "metadata": {},
     "output_type": "execute_result"
    }
   ],
   "source": [
    "usuario1.items()"
   ]
  },
  {
   "cell_type": "code",
   "execution_count": 171,
   "metadata": {},
   "outputs": [],
   "source": [
    "usuario2 = {'nome': 'rogerio',\n",
    "            'idade': '29'}\n",
    "\n",
    "dicionario_de_dicionarios = {'usuario': ''}"
   ]
  },
  {
   "cell_type": "code",
   "execution_count": 177,
   "metadata": {},
   "outputs": [],
   "source": [
    "dicionario_de_dicionarios['usuario2'] = usuario1"
   ]
  },
  {
   "cell_type": "code",
   "execution_count": 178,
   "metadata": {},
   "outputs": [
    {
     "data": {
      "text/plain": [
       "{'usuario': {'nome': 'rogerio', 'idade': '29'},\n",
       " 'usuario2': {'nome': 'Alice',\n",
       "  'idade': 35,\n",
       "  'altura': 1.62,\n",
       "  'matriz': [1, 2, 3]}}"
      ]
     },
     "execution_count": 178,
     "metadata": {},
     "output_type": "execute_result"
    }
   ],
   "source": [
    "dicionario_de_dicionarios"
   ]
  },
  {
   "cell_type": "markdown",
   "metadata": {},
   "source": [
    "\n",
    " - `dicionario.clear()`: Remove todos os pares chave-valor do dicionário `dicionario`.\n",
    "\n",
    "```python\n",
    "dicionario = {'Alice': 25, 'Bob': 30, 'Charlie': 35}\n",
    "dicionario.clear()\n",
    "print(dicionario)\n",
    "```"
   ]
  },
  {
   "cell_type": "code",
   "execution_count": 179,
   "metadata": {},
   "outputs": [],
   "source": [
    "dicionario_de_dicionarios.clear()"
   ]
  },
  {
   "cell_type": "code",
   "execution_count": 180,
   "metadata": {},
   "outputs": [
    {
     "data": {
      "text/plain": [
       "{}"
      ]
     },
     "execution_count": 180,
     "metadata": {},
     "output_type": "execute_result"
    }
   ],
   "source": [
    "dicionario_de_dicionarios"
   ]
  },
  {
   "cell_type": "markdown",
   "metadata": {},
   "source": [
    "____________"
   ]
  },
  {
   "cell_type": "markdown",
   "metadata": {},
   "source": [
    "### Conjuntos\n",
    "\n",
    "Conjuntos em Python são coleções não ordenadas de elementos únicos. Eles são úteis para realizar operações como união, interseção e diferença entre conjuntos.\n",
    "\n",
    "Para criar um conjunto em Python, basta colocar os elementos entre chaves `{}`. Por exemplo, para criar um conjunto com os números de 1 a 5, basta fazer:\n",
    "\n",
    "```python\n",
    "conjunto = {1, 2, 3, 4, 5}\n",
    "print(conjunto)\n",
    "```\n"
   ]
  },
  {
   "cell_type": "code",
   "execution_count": 184,
   "metadata": {},
   "outputs": [],
   "source": [
    "lista_de_zeros = [0,0,0,0,0,0,0,0,0]\n",
    "conjunto_zeros = {'rogerio', 'marcos', 'quelipe', 'rogerio'}"
   ]
  },
  {
   "cell_type": "code",
   "execution_count": 185,
   "metadata": {},
   "outputs": [
    {
     "data": {
      "text/plain": [
       "{'marcos', 'quelipe', 'rogerio'}"
      ]
     },
     "execution_count": 185,
     "metadata": {},
     "output_type": "execute_result"
    }
   ],
   "source": [
    "conjunto_zeros"
   ]
  },
  {
   "cell_type": "markdown",
   "metadata": {},
   "source": [
    "#### Operações com conjuntos\n",
    "\n",
    "Assim como as strings, as listas e os dicionários, os conjuntos também possuem vários métodos e operações que podem ser realizados. Alguns deles são:\n",
    "\n",
    " - `len(conjunto)`: Retorna o número de elementos no conjunto `conjunto`.\n",
    "\n",
    "```python\n",
    "conjunto = {1, 2, 3, 4, 5}\n",
    "print(len(conjunto))\n",
    "```\n"
   ]
  },
  {
   "cell_type": "code",
   "execution_count": null,
   "metadata": {},
   "outputs": [],
   "source": []
  },
  {
   "cell_type": "markdown",
   "metadata": {},
   "source": [
    "\n",
    " - `elemento in conjunto`: Verifica se o elemento `elemento` pertence ao conjunto `conjunto`.\n",
    "\n",
    "```python\n",
    "conjunto = {1, 2, 3, 4, 5}\n",
    "print(3 in conjunto)\n",
    "```\n",
    "\n",
    " "
   ]
  },
  {
   "cell_type": "code",
   "execution_count": 187,
   "metadata": {},
   "outputs": [
    {
     "name": "stdout",
     "output_type": "stream",
     "text": [
      "True\n"
     ]
    }
   ],
   "source": [
    "print('rogerio' in conjunto_zeros)"
   ]
  },
  {
   "cell_type": "markdown",
   "metadata": {},
   "source": [
    "- `conjunto.add(elemento)`: Adiciona o elemento `elemento` ao conjunto `conjunto`.\n",
    "\n",
    "```python\n",
    "conjunto = {1, 2, 3, 4, 5}\n",
    "conjunto.add(6)\n",
    "print(conjunto)\n",
    "```\n"
   ]
  },
  {
   "cell_type": "code",
   "execution_count": 189,
   "metadata": {},
   "outputs": [],
   "source": [
    "conjunto_zeros.add('python')"
   ]
  },
  {
   "cell_type": "code",
   "execution_count": 191,
   "metadata": {},
   "outputs": [],
   "source": [
    "conjunto_zeros.add('python')"
   ]
  },
  {
   "cell_type": "code",
   "execution_count": 193,
   "metadata": {},
   "outputs": [],
   "source": [
    "conjunto_ordem = {3,9,4,5,3,3,3}"
   ]
  },
  {
   "cell_type": "code",
   "execution_count": 214,
   "metadata": {},
   "outputs": [
    {
     "data": {
      "text/plain": [
       "{1,\n",
       " 1.5,\n",
       " 1.75,\n",
       " '123',\n",
       " 3,\n",
       " 4,\n",
       " 40,\n",
       " 5,\n",
       " 50,\n",
       " 6,\n",
       " 7,\n",
       " 7.99999,\n",
       " '7890',\n",
       " 8,\n",
       " 9,\n",
       " 'amor',\n",
       " 'name',\n",
       " 'zebra'}"
      ]
     },
     "execution_count": 214,
     "metadata": {},
     "output_type": "execute_result"
    }
   ],
   "source": [
    "conjunto_ordem.add()\n",
    "conjunto_ordem"
   ]
  },
  {
   "cell_type": "markdown",
   "metadata": {},
   "source": [
    "\n",
    " - `conjunto.remove(elemento)`: Remove o elemento `elemento` do conjunto `conjunto`.\n",
    "\n",
    "```python\n",
    "conjunto = {1, 2, 3, 4, 5}\n",
    "conjunto.remove(3)\n",
    "print(conjunto)\n",
    "```\n"
   ]
  },
  {
   "cell_type": "code",
   "execution_count": 217,
   "metadata": {},
   "outputs": [
    {
     "data": {
      "text/plain": [
       "{1,\n",
       " 1.5,\n",
       " 1.75,\n",
       " '123',\n",
       " 3,\n",
       " 4,\n",
       " 40,\n",
       " 5,\n",
       " 50,\n",
       " 6,\n",
       " 7,\n",
       " 7.99999,\n",
       " '7890',\n",
       " 8,\n",
       " 9,\n",
       " 'amor',\n",
       " 'name'}"
      ]
     },
     "execution_count": 217,
     "metadata": {},
     "output_type": "execute_result"
    }
   ],
   "source": [
    "conjunto_ordem\n"
   ]
  },
  {
   "cell_type": "markdown",
   "metadata": {},
   "source": [
    "\n",
    " - `conjunto.union(outro_conjunto)`: Retorna a união dos conjuntos `conjunto` e `outro_conjunto`.\n",
    "\n",
    "```python\n",
    "conjunto1 = {1, 2, 3, 4, 5}\n",
    "conjunto2 = {4, 5, 6, 7, 8}\n",
    "print(conjunto1.union(conjunto2))\n",
    "```\n"
   ]
  },
  {
   "cell_type": "code",
   "execution_count": 218,
   "metadata": {},
   "outputs": [
    {
     "name": "stdout",
     "output_type": "stream",
     "text": [
      "{1, 2, 3, 4, 5, 6, 7, 8}\n"
     ]
    }
   ],
   "source": [
    "conjunto1 = {1,2,3,4,5}\n",
    "conjunto2 = {3,4,5,6,7,8}\n",
    "print(conjunto1.union(conjunto2))"
   ]
  },
  {
   "cell_type": "markdown",
   "metadata": {},
   "source": [
    "\n",
    " - `conjunto.intersection(outro_conjunto)`: Retorna a interseção dos conjuntos `conjunto` e `outro_conjunto`.\n",
    "\n",
    "```python\n",
    "conjunto1 = {1, 2, 3, 4, 5}\n",
    "conjunto2 = {4, 5, 6, 7, 8}\n",
    "print(conjunto1.intersection(conjunto2))\n",
    "```\n"
   ]
  },
  {
   "cell_type": "code",
   "execution_count": 219,
   "metadata": {},
   "outputs": [
    {
     "name": "stdout",
     "output_type": "stream",
     "text": [
      "{3, 4, 5}\n"
     ]
    }
   ],
   "source": [
    "print(conjunto1.intersection(conjunto2))"
   ]
  },
  {
   "cell_type": "markdown",
   "metadata": {},
   "source": [
    "\n",
    " - `conjunto.difference(outro_conjunto)`: Retorna a diferença dos conjuntos `conjunto` e `outro_conjunto`.\n",
    "\n",
    "```python\n",
    "conjunto1 = {1, 2, 3, 4, 5}\n",
    "conjunto2 = {4, 5, 6, 7, 8}\n",
    "print(conjunto1.difference(conjunto2))\n",
    "```\n"
   ]
  },
  {
   "cell_type": "code",
   "execution_count": 221,
   "metadata": {},
   "outputs": [
    {
     "name": "stdout",
     "output_type": "stream",
     "text": [
      "{8, 6, 7}\n"
     ]
    }
   ],
   "source": [
    "print(conjunto2.difference(conjunto1))"
   ]
  },
  {
   "cell_type": "markdown",
   "metadata": {},
   "source": [
    "\n",
    " - `conjunto.clear()`: Remove todos os elementos do conjunto `conjunto`.\n",
    "\n",
    "```python\n",
    "conjunto = {1, 2, 3, 4, 5}\n",
    "conjunto.clear()\n",
    "print(conjunto)\n",
    "```"
   ]
  },
  {
   "cell_type": "code",
   "execution_count": null,
   "metadata": {},
   "outputs": [],
   "source": []
  },
  {
   "cell_type": "markdown",
   "metadata": {},
   "source": [
    "_______________________"
   ]
  },
  {
   "cell_type": "markdown",
   "metadata": {},
   "source": [
    "### Projeto Cadastro"
   ]
  }
 ],
 "metadata": {
  "kernelspec": {
   "display_name": "Python 3",
   "language": "python",
   "name": "python3"
  },
  "language_info": {
   "codemirror_mode": {
    "name": "ipython",
    "version": 3
   },
   "file_extension": ".py",
   "mimetype": "text/x-python",
   "name": "python",
   "nbconvert_exporter": "python",
   "pygments_lexer": "ipython3",
   "version": "3.12.3"
  }
 },
 "nbformat": 4,
 "nbformat_minor": 2
}

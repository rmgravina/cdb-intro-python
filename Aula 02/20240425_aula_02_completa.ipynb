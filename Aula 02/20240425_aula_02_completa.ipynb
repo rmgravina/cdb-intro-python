{
 "cells": [
  {
   "cell_type": "markdown",
   "metadata": {},
   "source": [
    "## Aula 02 - Primeiros Passos com Python\n",
    "\n",
    " - Estrutura de um programa Python\n",
    " - Variáveis e tipos de dados\n",
    " - Operadores básicos\n",
    " - Entrada e saída de dados"
   ]
  },
  {
   "cell_type": "code",
   "execution_count": 2,
   "metadata": {},
   "outputs": [
    {
     "name": "stdout",
     "output_type": "stream",
     "text": [
      "hello\n"
     ]
    }
   ],
   "source": []
  },
  {
   "cell_type": "markdown",
   "metadata": {},
   "source": [
    "______________________________________________"
   ]
  },
  {
   "cell_type": "markdown",
   "metadata": {},
   "source": [
    "#### Estrutura de um programa Python\n",
    "\n",
    "```python\n",
    "# Comentário\n",
    "print(\"Hello, World!\")\n",
    "```\n",
    "    "
   ]
  },
  {
   "cell_type": "markdown",
   "metadata": {},
   "source": [
    "___________________________________________________"
   ]
  },
  {
   "cell_type": "markdown",
   "metadata": {},
   "source": [
    "### Identificadores\n",
    "\n",
    "Identificadores são nomes que damos para variáveis, funções, classes, módulos, etc. Eles são utilizados para identificar e acessar esses elementos no código.\n",
    "\n",
    " - Regras para identificadores:\n",
    "     - Podem conter letras, números e o caractere `_`\n",
    "     - Não podem começar com números\n",
    "     - Não podem conter espaços\n",
    "     - Não podem conter caracteres especiais como `!`, `@`, `#`, `$`, `%`, `^`, `&`, `*`, `(`, `)`, `-`, `+`, `=`, `{`, `}`, `[`, `]`, `|`, `\\`, `:`, `;`, `\"`, `'`, `<`, `>`, `,`, `.`, `?`, `/`\n",
    "     - Não podem ser palavras reservadas da linguagem Python\n",
    "     - São case sensitive (distinção entre MAIÚSCULAS e minúsculas)"
   ]
  },
  {
   "cell_type": "code",
   "execution_count": null,
   "metadata": {},
   "outputs": [],
   "source": []
  },
  {
   "cell_type": "code",
   "execution_count": null,
   "metadata": {},
   "outputs": [],
   "source": []
  },
  {
   "cell_type": "markdown",
   "metadata": {},
   "source": [
    "#### Palavras reservadas (Python 3.x)\n",
    "\n",
    "```python\n",
    "False      await      else       import     pass\n",
    "None       break      except     in         raise\n",
    "True       class      finally    is         return\n",
    "and        continue   for        lambda     try\n",
    "as         def        from       nonlocal   while\n",
    "assert     del        global     not        with\n",
    "async      elif       if         or         yield\n",
    "```\n",
    "\n",
    "#### Outras palavras reservadas (Python 3.x)\n",
    "\n",
    "```python\n",
    "abs        delattr    hash       memoryview set\n",
    "all        dict       help       min        setattr\n",
    "any        dir        hex        next       slice\n",
    "ascii      divmod     id         object     sorted\n",
    "bin        enumerate  input      oct        staticmethod\n",
    "bool       eval       int        open       str\n",
    "breakpoint exec       isinstance ord        sum\n",
    "bytearray  filter     issubclass pow        super\n",
    "bytes      float      iter       print      tuple\n",
    "callable   format     len        property   type\n",
    "chr        frozenset  list       range      vars\n",
    "classmethod getattr    locals     repr       zip\n",
    "compile    globals    map        reversed\n",
    "complex    hasattr    max        round\n",
    "```\n",
    "\n"
   ]
  },
  {
   "cell_type": "markdown",
   "metadata": {},
   "source": [
    "#### Exemplo de identificadores válidos\n",
    "\n",
    "```python\n",
    "nome\n",
    "Nome\n",
    "NOME --> Geralmente, variáveis em MAIÚSCULAS são utilizadas para constantes e definições de configurações\n",
    "_nome\n",
    "nome1\n",
    "nome_1\n",
    "_nome_1\n",
    "Nome1\n",
    "Nome_1\n",
    "_nome1\n",
    "```\n",
    "\n",
    "#### Exemplo de identificadores inválidos\n",
    "\n",
    "```python\n",
    "1nome\n",
    "nome 1\n",
    "nome-1\n",
    "nome@1\n",
    "nome#1\n",
    "nome$1\n",
    "nome%1\n",
    "nome^1\n",
    "3nome\n",
    "@nome --> Decoração de funções\n",
    "#nome\n",
    "$nome\n",
    "%nome\n",
    "^nome\n",
    "```"
   ]
  },
  {
   "cell_type": "markdown",
   "metadata": {},
   "source": [
    "_____________________________________________________"
   ]
  },
  {
   "cell_type": "markdown",
   "metadata": {},
   "source": [
    "### Variáveis\n",
    "\n",
    "Variáveis são utilizadas para armazenar valores na memória do computador. Em Python, as variáveis são criadas no momento em que são atribuídas, ou seja, não é necessário declarar o tipo de dado que será armazenado na variável."
   ]
  },
  {
   "cell_type": "markdown",
   "metadata": {},
   "source": [
    "| Memória | Variável | Valor |\n",
    "|---------|----------|-------|\n",
    "| 0x0001  | x       | 10    |\n",
    "| 0x0002  | y        | 20    |\n",
    "| 0x0003  | z        | 30    |\n"
   ]
  },
  {
   "cell_type": "markdown",
   "metadata": {},
   "source": [
    "#### Recebem identificadores e valores, e são criadas através do operador de atribuição `=`.\n"
   ]
  },
  {
   "cell_type": "code",
   "execution_count": 13,
   "metadata": {},
   "outputs": [],
   "source": [
    "\n"
   ]
  },
  {
   "cell_type": "markdown",
   "metadata": {},
   "source": [
    "#### Embora uma variável possa assumir diferentes valores, ela só pode armazenar um valor por vez."
   ]
  },
  {
   "cell_type": "markdown",
   "metadata": {},
   "source": [
    "#### Ela passa a existir no momento em que é atribuída, e deixa de existir quando o programa é encerrado ou quando é excluída. Não há necessidade de declarar o tipo de dado que será armazenado na variável."
   ]
  },
  {
   "cell_type": "code",
   "execution_count": 27,
   "metadata": {},
   "outputs": [],
   "source": []
  },
  {
   "cell_type": "code",
   "execution_count": 28,
   "metadata": {},
   "outputs": [
    {
     "data": {
      "text/plain": [
       "str"
      ]
     },
     "execution_count": 28,
     "metadata": {},
     "output_type": "execute_result"
    }
   ],
   "source": []
  },
  {
   "cell_type": "markdown",
   "metadata": {},
   "source": [
    "____________________________________"
   ]
  },
  {
   "cell_type": "markdown",
   "metadata": {},
   "source": [
    "### Tipos de dados\n",
    "\n",
    "Existem diversos tipos de dados em Python, e eles podem ser classificados em:\n",
    "\n",
    "- Numéricos\n",
    "    - int\n",
    "    - float\n",
    "    - complex\n",
    "- Sequências\n",
    "    - str\n",
    "    - list\n",
    "    - tuple\n",
    "- Conjuntos\n",
    "    - set\n",
    "    - frozenset\n",
    "- Mapeamentos\n",
    "    - dict\n",
    "- Booleanos\n",
    "    - bool\n",
    "- Binários\n",
    "    - bytes\n",
    "    - bytearray\n",
    "    - memoryview\n",
    "- Nulos\n",
    "    - None\n",
    "\n",
    "\n"
   ]
  },
  {
   "cell_type": "code",
   "execution_count": 39,
   "metadata": {},
   "outputs": [],
   "source": [
    "a = 5 + 3j\n",
    "b = 6 + 5j"
   ]
  },
  {
   "cell_type": "code",
   "execution_count": 41,
   "metadata": {},
   "outputs": [
    {
     "data": {
      "text/plain": [
       "complex"
      ]
     },
     "execution_count": 41,
     "metadata": {},
     "output_type": "execute_result"
    }
   ],
   "source": [
    "c = a + b\n",
    "type(c)"
   ]
  },
  {
   "cell_type": "code",
   "execution_count": 77,
   "metadata": {},
   "outputs": [],
   "source": [
    "meu_conjunto = {1,2,3,4,5}\n",
    "minha_lista = [1,2,3,4,5]"
   ]
  },
  {
   "cell_type": "code",
   "execution_count": 90,
   "metadata": {},
   "outputs": [
    {
     "name": "stdout",
     "output_type": "stream",
     "text": [
      "{0, 1, 2, 3, 4, 5, 6}\n",
      "[1, 2, 3, 4, 5, 6, 5]\n"
     ]
    }
   ],
   "source": [
    "print(meu_conjunto)\n",
    "print(minha_lista)"
   ]
  },
  {
   "cell_type": "code",
   "execution_count": 91,
   "metadata": {},
   "outputs": [
    {
     "data": {
      "text/plain": [
       "[1, 2, 3, 4, 5, 6, 5, 0]"
      ]
     },
     "execution_count": 91,
     "metadata": {},
     "output_type": "execute_result"
    }
   ],
   "source": [
    "minha_lista.append(0)\n",
    "minha_lista"
   ]
  },
  {
   "cell_type": "code",
   "execution_count": 89,
   "metadata": {},
   "outputs": [],
   "source": [
    "meu_conjunto.add(0)"
   ]
  },
  {
   "cell_type": "code",
   "execution_count": 127,
   "metadata": {},
   "outputs": [],
   "source": [
    "meu_nome = 'rogerio'"
   ]
  },
  {
   "cell_type": "code",
   "execution_count": 135,
   "metadata": {},
   "outputs": [
    {
     "name": "stdout",
     "output_type": "stream",
     "text": [
      "False\n",
      "condicao falsa\n"
     ]
    }
   ],
   "source": []
  },
  {
   "cell_type": "code",
   "execution_count": 37,
   "metadata": {},
   "outputs": [
    {
     "name": "stdout",
     "output_type": "stream",
     "text": [
      "O 10 é do tipo <class 'int'>\n",
      "O 5 é do tipo <class 'int'>\n"
     ]
    }
   ],
   "source": [
    "\n",
    "\n"
   ]
  },
  {
   "cell_type": "markdown",
   "metadata": {},
   "source": [
    "____________________________________________"
   ]
  },
  {
   "cell_type": "markdown",
   "metadata": {},
   "source": [
    "### Operadores\n",
    "\n",
    "Os operadores são símbolos que representam operações matemáticas, lógicas, de comparação, de atribuição, etc.\n",
    "\n",
    "O Python possui diversos operadores, e eles podem ser classificados em:"
   ]
  },
  {
   "cell_type": "markdown",
   "metadata": {},
   "source": [
    "#### Aritméticos\n",
    "    - Adição `+`\n",
    "    - Subtração `-`\n",
    "    - Multiplicação `*`\n",
    "    - Divisão `/`\n",
    "    - Divisão inteira `//`\n",
    "    - Resto da divisão `%`\n",
    "    - Potenciação `**`"
   ]
  },
  {
   "cell_type": "code",
   "execution_count": 136,
   "metadata": {},
   "outputs": [
    {
     "data": {
      "text/plain": [
       "2"
      ]
     },
     "execution_count": 136,
     "metadata": {},
     "output_type": "execute_result"
    }
   ],
   "source": [
    "1+1"
   ]
  },
  {
   "cell_type": "markdown",
   "metadata": {},
   "source": [
    "#### Comparação\n",
    "    - Igual `==`\n",
    "    - Diferente `!=`\n",
    "    - Maior que `>`\n",
    "    - Menor que `<`\n",
    "    - Maior ou igual `>=`\n",
    "    - Menor ou igual `<=`"
   ]
  },
  {
   "cell_type": "code",
   "execution_count": 152,
   "metadata": {},
   "outputs": [
    {
     "data": {
      "text/plain": [
       "True"
      ]
     },
     "execution_count": 152,
     "metadata": {},
     "output_type": "execute_result"
    }
   ],
   "source": []
  },
  {
   "cell_type": "markdown",
   "metadata": {},
   "source": [
    "#### Lógicos\n",
    "    - E `and`\n",
    "    - Ou `or`\n",
    "    - Não `not`"
   ]
  },
  {
   "cell_type": "code",
   "execution_count": 166,
   "metadata": {},
   "outputs": [],
   "source": [
    "condicao_1 = True\n",
    "condicao_2 = False\n"
   ]
  },
  {
   "cell_type": "code",
   "execution_count": 168,
   "metadata": {},
   "outputs": [
    {
     "name": "stdout",
     "output_type": "stream",
     "text": [
      "passou\n"
     ]
    }
   ],
   "source": [
    "if condicao_1 and condicao_2:\n",
    "    print(\"passou\")"
   ]
  },
  {
   "cell_type": "markdown",
   "metadata": {},
   "source": [
    "__________fim aula 25/04/2024___________"
   ]
  },
  {
   "cell_type": "markdown",
   "metadata": {},
   "source": [
    "#### Identidade\n",
    "    - É `is` --> Verifica se dois objetos têm a mesma identidade (endereço de memória)\n",
    "    - Não é `is not`"
   ]
  },
  {
   "cell_type": "code",
   "execution_count": null,
   "metadata": {},
   "outputs": [],
   "source": []
  },
  {
   "cell_type": "markdown",
   "metadata": {},
   "source": [
    "#### Associação\n",
    "    - Em `in`\n",
    "    - Não em `not in`"
   ]
  },
  {
   "cell_type": "code",
   "execution_count": null,
   "metadata": {},
   "outputs": [],
   "source": []
  },
  {
   "cell_type": "markdown",
   "metadata": {},
   "source": [
    "#### Casos especiais\n",
    "\n",
    "- Bit a bit\n",
    "    - E `&` --> Retorna 1 se ambos os bits forem 1, caso contrário, retorna 0 // Também é usado em conjuntos como interseção\n",
    "    - Ou `|` --> Retorna 1 se um dos bits for 1, caso contrário, retorna 0 // Também é usado em conjuntos como união\n",
    "    - Ou exclusivo `^` --> Retorna 1 se os bits forem diferentes, caso contrário, retorna 0 // Também é usado em conjuntos como diferença simétrica\n",
    "    - Inversão `~` --> Inverte os bits ou o sinal do número (int)\n",
    "    - Deslocamento à esquerda `<<` --> Desloca os bits para a esquerda\n",
    "    - Deslocamento à direita `>>` --> Desloca os bits para a direita"
   ]
  },
  {
   "cell_type": "markdown",
   "metadata": {},
   "source": [
    "##### Exemplos operações aritméticas"
   ]
  },
  {
   "cell_type": "markdown",
   "metadata": {},
   "source": [
    "$x^2$"
   ]
  },
  {
   "cell_type": "code",
   "execution_count": null,
   "metadata": {},
   "outputs": [],
   "source": []
  },
  {
   "cell_type": "markdown",
   "metadata": {},
   "source": [
    "$\\frac{1}{x}$\n"
   ]
  },
  {
   "cell_type": "code",
   "execution_count": null,
   "metadata": {},
   "outputs": [],
   "source": []
  },
  {
   "cell_type": "markdown",
   "metadata": {},
   "source": [
    "$\\sqrt{x}$\n"
   ]
  },
  {
   "cell_type": "code",
   "execution_count": null,
   "metadata": {},
   "outputs": [],
   "source": []
  },
  {
   "cell_type": "markdown",
   "metadata": {},
   "source": [
    "$2 \\cdot x^2 - \\frac{3 \\cdot x^{(x+1)}}{2} + \\frac{\\sqrt{x+1}}{x}$"
   ]
  },
  {
   "cell_type": "code",
   "execution_count": null,
   "metadata": {},
   "outputs": [],
   "source": []
  },
  {
   "cell_type": "markdown",
   "metadata": {},
   "source": [
    "______________________________________________________"
   ]
  },
  {
   "cell_type": "markdown",
   "metadata": {},
   "source": [
    "### Entrada e saída de dados\n",
    "\n",
    "A entrada e saída de dados são operações fundamentais em qualquer programa, pois permitem a interação com o usuário."
   ]
  },
  {
   "cell_type": "markdown",
   "metadata": {},
   "source": [
    "#### Entrada de dados\n",
    "\n",
    "A entrada de dados é feita através da função `input()`, que lê uma linha de texto do teclado e a retorna como uma string."
   ]
  },
  {
   "cell_type": "code",
   "execution_count": null,
   "metadata": {},
   "outputs": [],
   "source": []
  },
  {
   "cell_type": "markdown",
   "metadata": {},
   "source": [
    "#### Saída de dados\n",
    "\n",
    "A saída de dados é feita através da função `print()`, que exibe uma mensagem na tela."
   ]
  },
  {
   "cell_type": "code",
   "execution_count": null,
   "metadata": {},
   "outputs": [],
   "source": []
  },
  {
   "cell_type": "markdown",
   "metadata": {},
   "source": [
    "_________________________________________"
   ]
  },
  {
   "cell_type": "markdown",
   "metadata": {},
   "source": [
    "### Algoritmo para cálculo de média"
   ]
  },
  {
   "cell_type": "markdown",
   "metadata": {},
   "source": [
    "####  **Entendimento do problema**"
   ]
  },
  {
   "cell_type": "markdown",
   "metadata": {},
   "source": [
    "#####  A média aritmética de dois números é calculada pela soma dos números dividida pela quantidade de números. Um terceiro número é a média desses dois números."
   ]
  },
  {
   "cell_type": "markdown",
   "metadata": {},
   "source": [
    "#### **Definição dos dados e seus tipos**"
   ]
  },
  {
   "cell_type": "markdown",
   "metadata": {},
   "source": [
    "##### Os dados são os números que serão somados e a média que será calculada. Os tipos de dados são numéricos. O total de variáveis é 3."
   ]
  },
  {
   "cell_type": "markdown",
   "metadata": {},
   "source": [
    "#### **Entrada de dados**"
   ]
  },
  {
   "cell_type": "markdown",
   "metadata": {},
   "source": [
    "##### Os números são lidos do teclado. A entrada é feita através da função `input()`.\n"
   ]
  },
  {
   "cell_type": "markdown",
   "metadata": {},
   "source": [
    "#### **Processamento**"
   ]
  },
  {
   "cell_type": "markdown",
   "metadata": {},
   "source": [
    "##### A média é calculada pela soma dos números de entrada dividida por 2."
   ]
  },
  {
   "cell_type": "markdown",
   "metadata": {},
   "source": [
    "#### **Saída de dados**"
   ]
  },
  {
   "cell_type": "markdown",
   "metadata": {},
   "source": [
    "##### A variável média (calculada) é exibida na tela. A saída é feita através da função `print()`. "
   ]
  },
  {
   "cell_type": "code",
   "execution_count": null,
   "metadata": {},
   "outputs": [],
   "source": []
  }
 ],
 "metadata": {
  "kernelspec": {
   "display_name": "Python 3",
   "language": "python",
   "name": "python3"
  },
  "language_info": {
   "codemirror_mode": {
    "name": "ipython",
    "version": 3
   },
   "file_extension": ".py",
   "mimetype": "text/x-python",
   "name": "python",
   "nbconvert_exporter": "python",
   "pygments_lexer": "ipython3",
   "version": "3.12.3"
  }
 },
 "nbformat": 4,
 "nbformat_minor": 2
}
